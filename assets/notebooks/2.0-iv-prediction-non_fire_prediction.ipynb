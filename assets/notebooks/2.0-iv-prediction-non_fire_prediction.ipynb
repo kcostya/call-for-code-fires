{
 "cells": [
  {
   "cell_type": "markdown",
   "metadata": {},
   "source": [
    "## Imports"
   ]
  },
  {
   "cell_type": "code",
   "execution_count": 1,
   "metadata": {
    "_cell_guid": "b1076dfc-b9ad-4769-8c92-a6c4dae69d19",
    "_uuid": "8f2839f25d086af736a60e9eeb907d3b93b6e0e5"
   },
   "outputs": [
    {
     "name": "stderr",
     "output_type": "stream",
     "text": [
      "Using TensorFlow backend.\n"
     ]
    }
   ],
   "source": [
    "import datetime\n",
    "import gc\n",
    "import math\n",
    "import os\n",
    "import pickle\n",
    "import random\n",
    "import sys\n",
    "\n",
    "import keras.backend as K\n",
    "import numpy as np  # linear algebra\n",
    "import pandas as pd  # data processing, CSV file I/O (e.g. pd.read_csv)\n",
    "import pylab as plt\n",
    "from keras import regularizers\n",
    "from keras.backend import squeeze\n",
    "from keras.callbacks import EarlyStopping, ReduceLROnPlateau\n",
    "from keras.initializers import Constant, glorot_uniform, lecun_uniform\n",
    "from keras.layers import LSTM, BatchNormalization, Conv3D, ConvLSTM2D, Input, Lambda\n",
    "from keras.losses import binary_crossentropy, mean_absolute_error, mean_squared_error\n",
    "from keras.models import Model, Sequential\n",
    "from keras.optimizers import Adadelta\n",
    "from keras.utils import plot_model\n",
    "from matplotlib import colorbar\n",
    "from matplotlib.colors import ListedColormap, Normalize, from_levels_and_colors\n",
    "from matplotlib.pyplot import savefig\n",
    "from mpl_toolkits.axes_grid1 import AxesGrid, ImageGrid\n",
    "from numpy.random import seed\n",
    "from scipy import stats\n",
    "from sklearn.metrics import (\n",
    "    confusion_matrix,\n",
    "    f1_score,\n",
    "    precision_recall_fscore_support,\n",
    "    precision_score,\n",
    "    recall_score,\n",
    ")\n",
    "from sklearn.preprocessing import StandardScaler\n",
    "from tensorflow import set_random_seed\n",
    "\n",
    "%matplotlib inline\n",
    "\n",
    "print(os.listdir(\"../input/\"))"
   ]
  },
  {
   "cell_type": "markdown",
   "metadata": {},
   "source": [
    "# Config"
   ]
  },
  {
   "cell_type": "code",
   "execution_count": 3,
   "metadata": {},
   "outputs": [],
   "source": [
    "# choose a number of time steps\n",
    "steps = 60\n",
    "\n",
    "# model config\n",
    "batch_size = 32\n",
    "n_epochs = 50\n",
    "verbose = 1\n",
    "patience = 15\n",
    "restore_weights = True"
   ]
  },
  {
   "cell_type": "markdown",
   "metadata": {},
   "source": [
    "# Utils"
   ]
  },
  {
   "cell_type": "code",
   "execution_count": 4,
   "metadata": {},
   "outputs": [],
   "source": [
    "# reduce memory usage by converting to proper data types\n",
    "def reduce_mem_usage(df):\n",
    "    \"\"\" iterate through all the columns of a dataframe and modify the data type\n",
    "        to reduce memory usage.        \n",
    "    \"\"\"\n",
    "    start_mem = df.memory_usage().sum() / 1024 ** 2\n",
    "    print(\"Memory usage of dataframe is {:.2f} MB\".format(start_mem))\n",
    "\n",
    "    for col in df.columns:\n",
    "        col_type = df[col].dtype\n",
    "\n",
    "        if col_type != object:\n",
    "            c_min = df[col].min()\n",
    "            c_max = df[col].max()\n",
    "            if str(col_type)[:3] == \"int\":\n",
    "                if c_min > np.iinfo(np.int8).min and c_max < np.iinfo(np.int8).max:\n",
    "                    df[col] = df[col].astype(np.int8)\n",
    "                elif c_min > np.iinfo(np.int16).min and c_max < np.iinfo(np.int16).max:\n",
    "                    df[col] = df[col].astype(np.int16)\n",
    "                elif c_min > np.iinfo(np.int32).min and c_max < np.iinfo(np.int32).max:\n",
    "                    df[col] = df[col].astype(np.int32)\n",
    "                elif c_min > np.iinfo(np.int64).min and c_max < np.iinfo(np.int64).max:\n",
    "                    df[col] = df[col].astype(np.int64)\n",
    "            else:\n",
    "                if (\n",
    "                    c_min > np.finfo(np.float16).min\n",
    "                    and c_max < np.finfo(np.float16).max\n",
    "                ):\n",
    "                    df[col] = df[col].astype(np.float16)\n",
    "                elif (\n",
    "                    c_min > np.finfo(np.float32).min\n",
    "                    and c_max < np.finfo(np.float32).max\n",
    "                ):\n",
    "                    df[col] = df[col].astype(np.float32)\n",
    "                else:\n",
    "                    df[col] = df[col].astype(np.float64)\n",
    "        else:\n",
    "            df[col] = df[col].astype(\"category\")\n",
    "\n",
    "    end_mem = df.memory_usage().sum() / 1024 ** 2\n",
    "    print(\"Memory usage after optimization is: {:.2f} MB\".format(end_mem))\n",
    "    print(\"Decreased by {:.1f}%\".format(100 * (start_mem - end_mem) / start_mem))\n",
    "\n",
    "    return df\n",
    "\n",
    "\n",
    "# plot train/val loss across the epochs\n",
    "def plot_history(history, title=\"loss\"):\n",
    "    loss_list = [s for s in history.history.keys() if \"loss\" in s and \"val\" not in s]\n",
    "    val_loss_list = [s for s in history.history.keys() if \"loss\" in s and \"val\" in s]\n",
    "\n",
    "    if len(loss_list) == 0:\n",
    "        print(\"Loss is missing in history\")\n",
    "        return\n",
    "\n",
    "    ## As loss always exists\n",
    "    epochs = range(1, len(history.history[loss_list[0]]) + 1)\n",
    "\n",
    "    ## Loss\n",
    "    plt.figure(1)\n",
    "    for l in loss_list:\n",
    "        plt.plot(\n",
    "            epochs,\n",
    "            history.history[l],\n",
    "            \"b\",\n",
    "            label=\"Training loss (\"\n",
    "            + str(str(format(history.history[l][-1], \".5f\")) + \")\"),\n",
    "        )\n",
    "    for l in val_loss_list:\n",
    "        plt.plot(\n",
    "            epochs,\n",
    "            history.history[l],\n",
    "            \"g\",\n",
    "            label=\"Validation loss (\"\n",
    "            + str(str(format(history.history[l][-1], \".5f\")) + \")\"),\n",
    "        )\n",
    "\n",
    "    plt.title(title)\n",
    "    plt.xlabel(\"Epochs\")\n",
    "    plt.ylabel(\"Loss\")\n",
    "    plt.legend()\n",
    "\n",
    "    plt.show()"
   ]
  },
  {
   "cell_type": "markdown",
   "metadata": {},
   "source": [
    "# Load Data"
   ]
  },
  {
   "cell_type": "code",
   "execution_count": 5,
   "metadata": {},
   "outputs": [],
   "source": [
    "dtype_dict = {\n",
    "    \"lat\": np.float16,\n",
    "    \"lon\": np.float16,\n",
    "    \"U2M\": np.float16,\n",
    "    \"T2M\": np.float16,\n",
    "    \"V50M\": np.float16,\n",
    "    \"T10M\": np.float16,\n",
    "    \"SLP\": np.float32,\n",
    "    \"V2M\": np.float16,\n",
    "    \"V10M\": np.float16,\n",
    "    \"U50M\": np.float16,\n",
    "    \"U10M\": np.float16,\n",
    "    \"QV2M\": np.float16,\n",
    "    \"QV10M\": np.float16,\n",
    "    \"SPEEDMAX\": np.float16,\n",
    "    \"BSTAR\": np.float16,\n",
    "    \"PRECTOT\": np.float16,\n",
    "    \"GWETTOP\": np.float16,\n",
    "    \"LAI\": np.float32,\n",
    "    \"GWETROOT\": np.float32,\n",
    "    \"GRN\": np.float32,\n",
    "    \"TSURF\": np.float32,\n",
    "    \"EVI\": np.float32,\n",
    "    \"MIR\": np.float32,\n",
    "    \"EVI_wasNA\": np.bool,\n",
    "    \"MIR_wasNA\": np.bool,\n",
    "    \"fire_count\": np.float16,\n",
    "    \"dayOfYear\": np.int16,\n",
    "    \"dayOfWeek\": np.int8,\n",
    "    \"population density\": np.float16,\n",
    "    \"SGH\": np.float16,\n",
    "    \"lat\": np.float16,\n",
    "    \"lon\": np.float16,\n",
    "    \"elevation\": np.float16,\n",
    "    \"agriculture\": np.float16,\n",
    "    \"forest\": np.float16,\n",
    "    \"grassland\": np.float16,\n",
    "    \"wetland\": np.float16,\n",
    "    \"settlement\": np.float16,\n",
    "    \"shrubland\": np.float16,\n",
    "    \"sparse_veg\": np.float16,\n",
    "    \"bare_area\": np.float16,\n",
    "    \"water\": np.float16,\n",
    "}"
   ]
  },
  {
   "cell_type": "code",
   "execution_count": 6,
   "metadata": {
    "_cell_guid": "79c7e3d0-c299-4dcb-8224-4455121ee9b0",
    "_uuid": "d629ff2d2480ee46fbb7e2d37f6b5fab8052498a"
   },
   "outputs": [
    {
     "data": {
      "text/plain": [
       "(2233460, 33)"
      ]
     },
     "execution_count": 6,
     "metadata": {},
     "output_type": "execute_result"
    }
   ],
   "source": [
    "pd.set_option(\"display.max_colwidth\", 1000)  # set optins to show all columns\n",
    "\n",
    "chunks = pd.read_csv(\n",
    "    \"../input/basegrid_12h.csv\",\n",
    "    index_col=[\"timestamp\", \"lat\", \"lon\"],\n",
    "    chunksize=10e5,\n",
    "    usecols=[\n",
    "        \"timestamp\",\n",
    "        \"lat\",\n",
    "        \"lon\",\n",
    "        \"U2M\",\n",
    "        \"T2M\",\n",
    "        \"T10M\",\n",
    "        \"SLP\",\n",
    "        \"V2M\",\n",
    "        \"V10M\",\n",
    "        \"U10M\",\n",
    "        \"QV2M\",\n",
    "        \"QV10M\",\n",
    "        \"BSTAR\",\n",
    "        \"GWETTOP\",\n",
    "        \"LAI\",\n",
    "        \"GWETROOT\",\n",
    "        \"GRN\",\n",
    "        \"TSURF\",\n",
    "        \"MIR\",\n",
    "        \"population density\",\n",
    "        \"SGH\",\n",
    "        \"elevation\",\n",
    "        \"agriculture\",\n",
    "        \"forest\",\n",
    "        \"grassland\",\n",
    "        \"wetland\",\n",
    "        \"settlement\",\n",
    "        \"shrubland\",\n",
    "        \"sparse_veg\",\n",
    "        \"bare_area\",\n",
    "        \"water\",\n",
    "        \"PRECTOT\",\n",
    "        \"dayOfYear\",\n",
    "        \"sin_dayOfYear\",\n",
    "        \"cos_dayOfYear\",\n",
    "        \"fire_count\",\n",
    "    ],\n",
    ")\n",
    "\n",
    "df = pd.concat(chunk for chunk in chunks)\n",
    "\n",
    "num_rows, num_cols = df.shape\n",
    "num_rows, num_cols"
   ]
  },
  {
   "cell_type": "code",
   "execution_count": 7,
   "metadata": {},
   "outputs": [],
   "source": [
    "cols = [x for x in df.columns if x not in [\"fire_count\"]]\n",
    "cols.append(\"fire_count\")\n",
    "df = df[cols]"
   ]
  },
  {
   "cell_type": "code",
   "execution_count": 8,
   "metadata": {},
   "outputs": [
    {
     "data": {
      "text/html": [
       "<div>\n",
       "<style scoped>\n",
       "    .dataframe tbody tr th:only-of-type {\n",
       "        vertical-align: middle;\n",
       "    }\n",
       "\n",
       "    .dataframe tbody tr th {\n",
       "        vertical-align: top;\n",
       "    }\n",
       "\n",
       "    .dataframe thead th {\n",
       "        text-align: right;\n",
       "    }\n",
       "</style>\n",
       "<table border=\"1\" class=\"dataframe\">\n",
       "  <thead>\n",
       "    <tr style=\"text-align: right;\">\n",
       "      <th></th>\n",
       "      <th></th>\n",
       "      <th></th>\n",
       "      <th>U2M</th>\n",
       "      <th>T2M</th>\n",
       "      <th>T10M</th>\n",
       "      <th>SLP</th>\n",
       "      <th>V2M</th>\n",
       "      <th>V10M</th>\n",
       "      <th>U10M</th>\n",
       "      <th>QV2M</th>\n",
       "      <th>QV10M</th>\n",
       "      <th>BSTAR</th>\n",
       "      <th>...</th>\n",
       "      <th>settlement</th>\n",
       "      <th>shrubland</th>\n",
       "      <th>sparse_veg</th>\n",
       "      <th>bare_area</th>\n",
       "      <th>water</th>\n",
       "      <th>PRECTOT</th>\n",
       "      <th>dayOfYear</th>\n",
       "      <th>sin_dayOfYear</th>\n",
       "      <th>cos_dayOfYear</th>\n",
       "      <th>fire_count</th>\n",
       "    </tr>\n",
       "    <tr>\n",
       "      <th>timestamp</th>\n",
       "      <th>lat</th>\n",
       "      <th>lon</th>\n",
       "      <th></th>\n",
       "      <th></th>\n",
       "      <th></th>\n",
       "      <th></th>\n",
       "      <th></th>\n",
       "      <th></th>\n",
       "      <th></th>\n",
       "      <th></th>\n",
       "      <th></th>\n",
       "      <th></th>\n",
       "      <th></th>\n",
       "      <th></th>\n",
       "      <th></th>\n",
       "      <th></th>\n",
       "      <th></th>\n",
       "      <th></th>\n",
       "      <th></th>\n",
       "      <th></th>\n",
       "      <th></th>\n",
       "      <th></th>\n",
       "      <th></th>\n",
       "    </tr>\n",
       "  </thead>\n",
       "  <tbody>\n",
       "    <tr>\n",
       "      <th rowspan=\"5\" valign=\"top\">2010-01-02 12:00:00</th>\n",
       "      <th rowspan=\"5\" valign=\"top\">32.5</th>\n",
       "      <th>-123.750</th>\n",
       "      <td>0.4810</td>\n",
       "      <td>288.8</td>\n",
       "      <td>288.8</td>\n",
       "      <td>102250.840</td>\n",
       "      <td>-6.040</td>\n",
       "      <td>-7.040</td>\n",
       "      <td>0.5596</td>\n",
       "      <td>0.01035</td>\n",
       "      <td>0.010240</td>\n",
       "      <td>0.000886</td>\n",
       "      <td>...</td>\n",
       "      <td>0.0</td>\n",
       "      <td>0.0</td>\n",
       "      <td>0.0</td>\n",
       "      <td>0.0</td>\n",
       "      <td>1.0</td>\n",
       "      <td>0.0</td>\n",
       "      <td>2</td>\n",
       "      <td>0.034422</td>\n",
       "      <td>0.999407</td>\n",
       "      <td>-20.0</td>\n",
       "    </tr>\n",
       "    <tr>\n",
       "      <th>-123.125</th>\n",
       "      <td>1.1875</td>\n",
       "      <td>288.5</td>\n",
       "      <td>288.5</td>\n",
       "      <td>102198.016</td>\n",
       "      <td>-6.367</td>\n",
       "      <td>-7.457</td>\n",
       "      <td>1.3910</td>\n",
       "      <td>0.01027</td>\n",
       "      <td>0.010160</td>\n",
       "      <td>0.000800</td>\n",
       "      <td>...</td>\n",
       "      <td>0.0</td>\n",
       "      <td>0.0</td>\n",
       "      <td>0.0</td>\n",
       "      <td>0.0</td>\n",
       "      <td>1.0</td>\n",
       "      <td>0.0</td>\n",
       "      <td>2</td>\n",
       "      <td>0.034422</td>\n",
       "      <td>0.999407</td>\n",
       "      <td>-20.0</td>\n",
       "    </tr>\n",
       "    <tr>\n",
       "      <th>-122.500</th>\n",
       "      <td>1.7330</td>\n",
       "      <td>288.5</td>\n",
       "      <td>288.5</td>\n",
       "      <td>102133.840</td>\n",
       "      <td>-6.562</td>\n",
       "      <td>-7.715</td>\n",
       "      <td>2.0370</td>\n",
       "      <td>0.01019</td>\n",
       "      <td>0.010086</td>\n",
       "      <td>0.000740</td>\n",
       "      <td>...</td>\n",
       "      <td>0.0</td>\n",
       "      <td>0.0</td>\n",
       "      <td>0.0</td>\n",
       "      <td>0.0</td>\n",
       "      <td>1.0</td>\n",
       "      <td>0.0</td>\n",
       "      <td>2</td>\n",
       "      <td>0.034422</td>\n",
       "      <td>0.999407</td>\n",
       "      <td>-20.0</td>\n",
       "    </tr>\n",
       "    <tr>\n",
       "      <th>-121.875</th>\n",
       "      <td>2.3790</td>\n",
       "      <td>288.0</td>\n",
       "      <td>288.0</td>\n",
       "      <td>102077.016</td>\n",
       "      <td>-6.350</td>\n",
       "      <td>-7.516</td>\n",
       "      <td>2.8120</td>\n",
       "      <td>0.00984</td>\n",
       "      <td>0.009766</td>\n",
       "      <td>0.000181</td>\n",
       "      <td>...</td>\n",
       "      <td>0.0</td>\n",
       "      <td>0.0</td>\n",
       "      <td>0.0</td>\n",
       "      <td>0.0</td>\n",
       "      <td>1.0</td>\n",
       "      <td>0.0</td>\n",
       "      <td>2</td>\n",
       "      <td>0.034422</td>\n",
       "      <td>0.999407</td>\n",
       "      <td>-20.0</td>\n",
       "    </tr>\n",
       "    <tr>\n",
       "      <th>-121.250</th>\n",
       "      <td>2.8770</td>\n",
       "      <td>287.8</td>\n",
       "      <td>288.0</td>\n",
       "      <td>101999.680</td>\n",
       "      <td>-6.234</td>\n",
       "      <td>-7.383</td>\n",
       "      <td>3.4040</td>\n",
       "      <td>0.00951</td>\n",
       "      <td>0.009400</td>\n",
       "      <td>0.000130</td>\n",
       "      <td>...</td>\n",
       "      <td>0.0</td>\n",
       "      <td>0.0</td>\n",
       "      <td>0.0</td>\n",
       "      <td>0.0</td>\n",
       "      <td>1.0</td>\n",
       "      <td>0.0</td>\n",
       "      <td>2</td>\n",
       "      <td>0.034422</td>\n",
       "      <td>0.999407</td>\n",
       "      <td>-20.0</td>\n",
       "    </tr>\n",
       "  </tbody>\n",
       "</table>\n",
       "<p>5 rows × 33 columns</p>\n",
       "</div>"
      ],
      "text/plain": [
       "                                      U2M    T2M   T10M         SLP    V2M  \\\n",
       "timestamp           lat  lon                                                 \n",
       "2010-01-02 12:00:00 32.5 -123.750  0.4810  288.8  288.8  102250.840 -6.040   \n",
       "                         -123.125  1.1875  288.5  288.5  102198.016 -6.367   \n",
       "                         -122.500  1.7330  288.5  288.5  102133.840 -6.562   \n",
       "                         -121.875  2.3790  288.0  288.0  102077.016 -6.350   \n",
       "                         -121.250  2.8770  287.8  288.0  101999.680 -6.234   \n",
       "\n",
       "                                    V10M    U10M     QV2M     QV10M     BSTAR  \\\n",
       "timestamp           lat  lon                                                    \n",
       "2010-01-02 12:00:00 32.5 -123.750 -7.040  0.5596  0.01035  0.010240  0.000886   \n",
       "                         -123.125 -7.457  1.3910  0.01027  0.010160  0.000800   \n",
       "                         -122.500 -7.715  2.0370  0.01019  0.010086  0.000740   \n",
       "                         -121.875 -7.516  2.8120  0.00984  0.009766  0.000181   \n",
       "                         -121.250 -7.383  3.4040  0.00951  0.009400  0.000130   \n",
       "\n",
       "                                      ...      settlement  shrubland  \\\n",
       "timestamp           lat  lon          ...                              \n",
       "2010-01-02 12:00:00 32.5 -123.750     ...             0.0        0.0   \n",
       "                         -123.125     ...             0.0        0.0   \n",
       "                         -122.500     ...             0.0        0.0   \n",
       "                         -121.875     ...             0.0        0.0   \n",
       "                         -121.250     ...             0.0        0.0   \n",
       "\n",
       "                                   sparse_veg  bare_area  water  PRECTOT  \\\n",
       "timestamp           lat  lon                                               \n",
       "2010-01-02 12:00:00 32.5 -123.750         0.0        0.0    1.0      0.0   \n",
       "                         -123.125         0.0        0.0    1.0      0.0   \n",
       "                         -122.500         0.0        0.0    1.0      0.0   \n",
       "                         -121.875         0.0        0.0    1.0      0.0   \n",
       "                         -121.250         0.0        0.0    1.0      0.0   \n",
       "\n",
       "                                   dayOfYear  sin_dayOfYear  cos_dayOfYear  \\\n",
       "timestamp           lat  lon                                                 \n",
       "2010-01-02 12:00:00 32.5 -123.750          2       0.034422       0.999407   \n",
       "                         -123.125          2       0.034422       0.999407   \n",
       "                         -122.500          2       0.034422       0.999407   \n",
       "                         -121.875          2       0.034422       0.999407   \n",
       "                         -121.250          2       0.034422       0.999407   \n",
       "\n",
       "                                   fire_count  \n",
       "timestamp           lat  lon                   \n",
       "2010-01-02 12:00:00 32.5 -123.750       -20.0  \n",
       "                         -123.125       -20.0  \n",
       "                         -122.500       -20.0  \n",
       "                         -121.875       -20.0  \n",
       "                         -121.250       -20.0  \n",
       "\n",
       "[5 rows x 33 columns]"
      ]
     },
     "execution_count": 8,
     "metadata": {},
     "output_type": "execute_result"
    }
   ],
   "source": [
    "df.head()"
   ]
  },
  {
   "cell_type": "code",
   "execution_count": 9,
   "metadata": {},
   "outputs": [
    {
     "data": {
      "text/plain": [
       "(2233460, 33)"
      ]
     },
     "execution_count": 9,
     "metadata": {},
     "output_type": "execute_result"
    }
   ],
   "source": [
    "df.shape"
   ]
  },
  {
   "cell_type": "code",
   "execution_count": 10,
   "metadata": {},
   "outputs": [
    {
     "name": "stdout",
     "output_type": "stream",
     "text": [
      "Memory usage of dataframe is 570.89 MB\n",
      "Memory usage after optimization is: 153.41 MB\n",
      "Decreased by 73.1%\n"
     ]
    }
   ],
   "source": [
    "df = reduce_mem_usage(df)"
   ]
  },
  {
   "cell_type": "code",
   "execution_count": 11,
   "metadata": {},
   "outputs": [
    {
     "data": {
      "text/plain": [
       "0"
      ]
     },
     "execution_count": 11,
     "metadata": {},
     "output_type": "execute_result"
    }
   ],
   "source": [
    "gc.collect()"
   ]
  },
  {
   "cell_type": "markdown",
   "metadata": {},
   "source": [
    "# Experimenting with fire_count as binary, filtering, and setting 0 to a negative value"
   ]
  },
  {
   "cell_type": "code",
   "execution_count": 12,
   "metadata": {},
   "outputs": [
    {
     "data": {
      "text/plain": [
       "count    2233460.0\n",
       "mean           NaN\n",
       "std            0.0\n",
       "min           -1.0\n",
       "25%           -1.0\n",
       "50%           -1.0\n",
       "75%           -1.0\n",
       "max          167.0\n",
       "Name: fire_count, dtype: float64"
      ]
     },
     "execution_count": 12,
     "metadata": {},
     "output_type": "execute_result"
    }
   ],
   "source": [
    "df[\"fire_count\"] = df[\"fire_count\"].replace(-20, -1)\n",
    "\n",
    "df[\"fire_count\"].describe()"
   ]
  },
  {
   "cell_type": "markdown",
   "metadata": {},
   "source": [
    "# Preprocess Data"
   ]
  },
  {
   "cell_type": "code",
   "execution_count": 13,
   "metadata": {},
   "outputs": [],
   "source": [
    "# LARGE MEMORY BOTTLENECK, CAN EAT RAM EASILY, CAN KILL KERNEL WITH LARGE DATASET\n",
    "# scale the data\n",
    "# separate scaler for labels to easily scale back later\n",
    "scaler_features = StandardScaler()\n",
    "scaler_label = StandardScaler()\n",
    "df.loc[:, df.columns != \"fire_count\"] = scaler_features.fit_transform(\n",
    "    df.loc[:, df.columns != \"fire_count\"]\n",
    ")\n",
    "df.loc[:, df.columns == \"fire_count\"] = scaler_label.fit_transform(\n",
    "    df.loc[:, df.columns == \"fire_count\"]\n",
    ")"
   ]
  },
  {
   "cell_type": "code",
   "execution_count": 14,
   "metadata": {},
   "outputs": [
    {
     "data": {
      "text/plain": [
       "count    2.233460e+06\n",
       "mean     5.563042e-13\n",
       "std      1.000000e+00\n",
       "min     -7.712418e-02\n",
       "25%     -7.712418e-02\n",
       "50%     -7.712418e-02\n",
       "75%     -7.712418e-02\n",
       "max      2.130820e+02\n",
       "Name: fire_count, dtype: float64"
      ]
     },
     "execution_count": 14,
     "metadata": {},
     "output_type": "execute_result"
    }
   ],
   "source": [
    "df['fire_count'].describe()"
   ]
  },
  {
   "cell_type": "markdown",
   "metadata": {},
   "source": [
    "# Separate train, validation, test"
   ]
  },
  {
   "cell_type": "code",
   "execution_count": 15,
   "metadata": {},
   "outputs": [],
   "source": [
    "# df_full is needed to later predict for the whole dataset\n",
    "df_full = df"
   ]
  },
  {
   "cell_type": "code",
   "execution_count": 16,
   "metadata": {},
   "outputs": [
    {
     "data": {
      "text/plain": [
       "6569"
      ]
     },
     "execution_count": 16,
     "metadata": {},
     "output_type": "execute_result"
    }
   ],
   "source": [
    "dim_time_full = len(df_full.index.get_level_values(0).unique())\n",
    "dim_time_full"
   ]
  },
  {
   "cell_type": "code",
   "execution_count": 17,
   "metadata": {},
   "outputs": [],
   "source": [
    "df_test = df.query('timestamp >= \"2018-01-01 00:00:00\"')\n",
    "df_valid = df.query(\n",
    "    '(timestamp < \"2018-01-01 00:00:00\") & (timestamp >= \"2017-01-01 00:00:00\")'\n",
    ")\n",
    "df = df.query('timestamp < \"2017-01-01 00:00:00\"')"
   ]
  },
  {
   "cell_type": "code",
   "execution_count": 18,
   "metadata": {},
   "outputs": [
    {
     "name": "stdout",
     "output_type": "stream",
     "text": [
      "Train Dimensions: 5111, 20, 17\n",
      "Validation Dimensions: 730, 20, 17\n",
      "Test Dimensions: 728, 20, 17\n",
      "Features:  32\n"
     ]
    }
   ],
   "source": [
    "# how many timestep we have, this is going to be our first dim\n",
    "dim_time_train = len(df.index.get_level_values(0).unique())\n",
    "dim_time_test = len(df_test.index.get_level_values(0).unique())\n",
    "dim_time_valid = len(df_valid.index.get_level_values(0).unique())\n",
    "# how many lat we have\n",
    "dim_lat = len(df.index.get_level_values(1).unique())\n",
    "# how many lon we have\n",
    "dim_lon = len(df.index.get_level_values(2).unique())\n",
    "# how many features if 'fire_count' is feature, and not only label\n",
    "features = len(df.columns)\n",
    "# as we will drop fire as feature in loader:\n",
    "features = features - 1\n",
    "\n",
    "print(\"Train Dimensions: {}, {}, {}\".format(dim_time_train, dim_lat, dim_lon))\n",
    "print(\"Validation Dimensions: {}, {}, {}\".format(dim_time_valid, dim_lat, dim_lon))\n",
    "print(\"Test Dimensions: {}, {}, {}\".format(dim_time_test, dim_lat, dim_lon))\n",
    "print(\"Features: \", features)"
   ]
  },
  {
   "cell_type": "code",
   "execution_count": 19,
   "metadata": {},
   "outputs": [],
   "source": [
    "# convert pandas to our properly dimensionalized numpy arrays\n",
    "df_np_train = (\n",
    "    df.copy().values.reshape((dim_time_train, dim_lat, dim_lon, -1)).astype(np.float32)\n",
    ")\n",
    "df_np_valid = (\n",
    "    df_valid.copy()\n",
    "    .values.reshape((dim_time_valid, dim_lat, dim_lon, -1))\n",
    "    .astype(np.float32)\n",
    ")\n",
    "df_np_test = (\n",
    "    df_test.copy()\n",
    "    .values.reshape((dim_time_test, dim_lat, dim_lon, -1))\n",
    "    .astype(np.float32)\n",
    ")\n",
    "df_np_full = (\n",
    "    df_full.copy()\n",
    "    .values.reshape((dim_time_full, dim_lat, dim_lon, -1))\n",
    "    .astype(np.float32)\n",
    ")"
   ]
  },
  {
   "cell_type": "code",
   "execution_count": 20,
   "metadata": {},
   "outputs": [
    {
     "name": "stdout",
     "output_type": "stream",
     "text": [
      "(5111, 20, 17, 33)\n",
      "(730, 20, 17, 33)\n",
      "(728, 20, 17, 33)\n",
      "(6569, 20, 17, 33)\n"
     ]
    }
   ],
   "source": [
    "# print out the shape\n",
    "print(df_np_train.shape)\n",
    "print(df_np_valid.shape)\n",
    "print(df_np_test.shape)\n",
    "print(df_np_full.shape)"
   ]
  },
  {
   "cell_type": "code",
   "execution_count": 21,
   "metadata": {},
   "outputs": [
    {
     "data": {
      "text/plain": [
       "'2010-01-02 12:00:00'"
      ]
     },
     "execution_count": 21,
     "metadata": {},
     "output_type": "execute_result"
    }
   ],
   "source": [
    "# first time:\n",
    "first_time = df_full.index[0][0]\n",
    "first_time"
   ]
  },
  {
   "cell_type": "code",
   "execution_count": 22,
   "metadata": {},
   "outputs": [
    {
     "data": {
      "text/plain": [
       "37"
      ]
     },
     "execution_count": 22,
     "metadata": {},
     "output_type": "execute_result"
    }
   ],
   "source": [
    "del df\n",
    "del df_valid\n",
    "del df_test\n",
    "del df_full\n",
    "gc.collect()"
   ]
  },
  {
   "cell_type": "markdown",
   "metadata": {},
   "source": [
    "# Split Sequence Generator test\n",
    "\n",
    "In later kernels goes to utils, here I want to check and show working."
   ]
  },
  {
   "cell_type": "code",
   "execution_count": 23,
   "metadata": {},
   "outputs": [],
   "source": [
    "# this generator gives back batches of steps long data\n",
    "# fixed_batch_size=True: only full batches, remainder data isn't used\n",
    "# fixed_batch_size=False: the last batch isnt dropped if not a full batch, instead the partial batch is returned\n",
    "# fit_generator can use different batch sizes,\n",
    "# with fixed_batch_size=False less data is wasted at the end of datasets\n",
    "# with fixed_batch_size=True we can use stateful=True on convlstm (was mentioned in a forum, not sure if needed)\n",
    "def steps_generator(\n",
    "    sequences, steps, batch_size, fixed_batch_size=False, fire_as_feature=True\n",
    "):\n",
    "    X, y = list(), list()\n",
    "    is_end = False\n",
    "    i = 0\n",
    "    while i < (len(sequences)):\n",
    "        # find the end of this pattern\n",
    "        end_ix = i + steps\n",
    "        # check if we are beyond the dataset\n",
    "        if end_ix >= len(sequences):\n",
    "            end_ix = len(sequences)\n",
    "            is_end = True\n",
    "        # gather input and output parts of the pattern\n",
    "        if fire_as_feature == True:\n",
    "            seq_x, seq_y = (\n",
    "                sequences[i:end_ix, :, :, :],\n",
    "                sequences[i:end_ix, :, :, -1, np.newaxis],\n",
    "            )\n",
    "        else:\n",
    "            seq_x, seq_y = (\n",
    "                sequences[i:end_ix, :, :, :-1],\n",
    "                sequences[i:end_ix, :, :, -1, np.newaxis],\n",
    "            )\n",
    "        X.append(seq_x)\n",
    "        y.append(seq_y)\n",
    "        i = i + 1\n",
    "        # if we have our batch_size, or reached the end of data\n",
    "        if ((len(X) > 0) and (len(X) % batch_size == 0)) or (is_end == True):\n",
    "            # only yield if we use the not fixed batch size option, or have full batch\n",
    "            if (fixed_batch_size == False) or (len(X) == batch_size):\n",
    "                yield np.array(X[:]), np.array(y[:])\n",
    "            X, y = list(), list()\n",
    "            if is_end == True:\n",
    "                i = 0\n",
    "                is_end = False"
   ]
  },
  {
   "cell_type": "code",
   "execution_count": 24,
   "metadata": {},
   "outputs": [],
   "source": [
    "# instantiate the generator\n",
    "fixed_batch_size = False\n",
    "fire_as_feature = False\n",
    "generator = steps_generator(\n",
    "    df_np_test,\n",
    "    steps=10,\n",
    "    batch_size=500,\n",
    "    fixed_batch_size=fixed_batch_size,\n",
    "    fire_as_feature=fire_as_feature,\n",
    ")"
   ]
  },
  {
   "cell_type": "code",
   "execution_count": 25,
   "metadata": {},
   "outputs": [
    {
     "name": "stdout",
     "output_type": "stream",
     "text": [
      "(500, 10, 20, 17, 32)\n"
     ]
    }
   ],
   "source": [
    "# generator test, when running this cell muliple times, it will generate some full batch and a remainder batch one after another infinite\n",
    "print(next(generator)[0].shape)"
   ]
  },
  {
   "cell_type": "code",
   "execution_count": 26,
   "metadata": {},
   "outputs": [
    {
     "data": {
      "text/plain": [
       "(728, 20, 17, 33)"
      ]
     },
     "execution_count": 26,
     "metadata": {},
     "output_type": "execute_result"
    }
   ],
   "source": [
    "df_np_test.shape"
   ]
  },
  {
   "cell_type": "code",
   "execution_count": 27,
   "metadata": {},
   "outputs": [],
   "source": [
    "del generator"
   ]
  },
  {
   "cell_type": "markdown",
   "metadata": {},
   "source": [
    "# Define Model"
   ]
  },
  {
   "cell_type": "code",
   "execution_count": 29,
   "metadata": {},
   "outputs": [],
   "source": [
    "# model architecture\n",
    "def get_model(\n",
    "    steps,\n",
    "    filter_size=60,\n",
    "    kernel_size=(3, 3),\n",
    "    kernel_size_3D=(3, 3, 3),\n",
    "    recurrent_activation=\"tanh\",\n",
    "    out_activation=None,\n",
    "    activation=\"linear\",\n",
    "    return_sequences=True,\n",
    "    unit_forget_bias=True,\n",
    "    recurrent_dropout=0.3,\n",
    "    stateful=False,\n",
    "):\n",
    "    # define model\n",
    "    model = Sequential()\n",
    "\n",
    "    bias_initializer = Constant(value=0.0)  # 'zeros'\n",
    "    model.add(\n",
    "        ConvLSTM2D(\n",
    "            filters=filter_size,\n",
    "            kernel_size=kernel_size,\n",
    "            padding=\"same\",\n",
    "            data_format=\"channels_last\",\n",
    "            input_shape=(\n",
    "                steps,\n",
    "                dim_lat,\n",
    "                dim_lon,\n",
    "                features,\n",
    "            ),  # earlie batch_input_shape requires fixed batch size, input_shape can get it from .fit_generator\n",
    "            return_sequences=True,\n",
    "            unit_forget_bias=True,\n",
    "            bias_initializer=bias_initializer,\n",
    "            recurrent_activation=recurrent_activation,\n",
    "            recurrent_dropout=0.3,\n",
    "            stateful=False,\n",
    "        )\n",
    "    )\n",
    "    model.add(BatchNormalization())\n",
    "\n",
    "    model.add(\n",
    "        ConvLSTM2D(\n",
    "            filters=filter_size,\n",
    "            kernel_size=kernel_size,\n",
    "            padding=\"same\",\n",
    "            data_format=\"channels_last\",\n",
    "            return_sequences=True,\n",
    "            unit_forget_bias=True,\n",
    "            bias_initializer=bias_initializer,\n",
    "            recurrent_activation=recurrent_activation,\n",
    "            recurrent_dropout=0.3,\n",
    "            stateful=False,\n",
    "        )\n",
    "    )\n",
    "    model.add(BatchNormalization())\n",
    "\n",
    "    model.add(\n",
    "        ConvLSTM2D(\n",
    "            filters=filter_size,\n",
    "            kernel_size=kernel_size,\n",
    "            padding=\"same\",\n",
    "            data_format=\"channels_last\",\n",
    "            return_sequences=True,\n",
    "            unit_forget_bias=True,\n",
    "            bias_initializer=bias_initializer,\n",
    "            recurrent_activation=recurrent_activation,\n",
    "            recurrent_dropout=0.3,\n",
    "            stateful=False,\n",
    "        )\n",
    "    )\n",
    "    model.add(BatchNormalization())\n",
    "\n",
    "    model.add(\n",
    "        ConvLSTM2D(\n",
    "            filters=filter_size,\n",
    "            kernel_size=kernel_size,\n",
    "            padding=\"same\",\n",
    "            data_format=\"channels_last\",\n",
    "            return_sequences=True,\n",
    "            unit_forget_bias=True,\n",
    "            bias_initializer=bias_initializer,\n",
    "            recurrent_activation=recurrent_activation,\n",
    "            recurrent_dropout=0.3,\n",
    "            stateful=False,\n",
    "        )\n",
    "    )\n",
    "    model.add(BatchNormalization())\n",
    "\n",
    "    model.add(\n",
    "        Conv3D(\n",
    "            filters=1,\n",
    "            kernel_size=kernel_size_3D,\n",
    "            padding=\"same\",\n",
    "            activation=out_activation,\n",
    "            data_format=\"channels_last\",\n",
    "            kernel_regularizer=regularizers.l2(0.0001),\n",
    "        )\n",
    "    )\n",
    "    return model"
   ]
  },
  {
   "cell_type": "code",
   "execution_count": 30,
   "metadata": {},
   "outputs": [
    {
     "name": "stdout",
     "output_type": "stream",
     "text": [
      "_________________________________________________________________\n",
      "Layer (type)                 Output Shape              Param #   \n",
      "=================================================================\n",
      "conv_lst_m2d_1 (ConvLSTM2D)  (None, 60, 20, 17, 60)    198960    \n",
      "_________________________________________________________________\n",
      "batch_normalization_1 (Batch (None, 60, 20, 17, 60)    240       \n",
      "_________________________________________________________________\n",
      "conv_lst_m2d_2 (ConvLSTM2D)  (None, 60, 20, 17, 60)    259440    \n",
      "_________________________________________________________________\n",
      "batch_normalization_2 (Batch (None, 60, 20, 17, 60)    240       \n",
      "_________________________________________________________________\n",
      "conv_lst_m2d_3 (ConvLSTM2D)  (None, 60, 20, 17, 60)    259440    \n",
      "_________________________________________________________________\n",
      "batch_normalization_3 (Batch (None, 60, 20, 17, 60)    240       \n",
      "_________________________________________________________________\n",
      "conv_lst_m2d_4 (ConvLSTM2D)  (None, 60, 20, 17, 60)    259440    \n",
      "_________________________________________________________________\n",
      "batch_normalization_4 (Batch (None, 60, 20, 17, 60)    240       \n",
      "_________________________________________________________________\n",
      "conv3d_1 (Conv3D)            (None, 60, 20, 17, 1)     1621      \n",
      "=================================================================\n",
      "Total params: 979,861\n",
      "Trainable params: 979,381\n",
      "Non-trainable params: 480\n",
      "_________________________________________________________________\n"
     ]
    }
   ],
   "source": [
    "# for ssim choose one of the following: ssim_bce, ssim_mse, ssim_mae, ssim_mse_mae\n",
    "model = get_model(steps)\n",
    "loss = bce_mse\n",
    "optimizer = Adadelta(lr=1.0, rho=0.95, epsilon=None, decay=0.0, clipnorm=1.0)\n",
    "model.compile(loss=loss, optimizer=optimizer)\n",
    "model.summary()"
   ]
  },
  {
   "cell_type": "markdown",
   "metadata": {},
   "source": [
    "# Setup training parameters"
   ]
  },
  {
   "cell_type": "code",
   "execution_count": 31,
   "metadata": {},
   "outputs": [],
   "source": [
    "# set random seed for reproducibility\n",
    "seed(42)\n",
    "set_random_seed(42)\n",
    "random.seed(42)\n",
    "\n",
    "# simple early stopping\n",
    "# es = EarlyStopping(monitor='val_loss', mode='min', verbose=verbose, patience=patience, restore_best_weights=restore_weights)\n",
    "rLR = ReduceLROnPlateau(\n",
    "    monitor=\"val_loss\",\n",
    "    factor=0.1,\n",
    "    patience=6,\n",
    "    verbose=0,\n",
    "    mode=\"auto\",\n",
    "    min_delta=0.0001,\n",
    "    cooldown=0,\n",
    "    min_lr=0,\n",
    ")"
   ]
  },
  {
   "cell_type": "code",
   "execution_count": 32,
   "metadata": {},
   "outputs": [],
   "source": [
    "# instantiate the generators for training, validation and testing\n",
    "gen_train = steps_generator(\n",
    "    df_np_train, steps=steps, batch_size=batch_size, fire_as_feature=False\n",
    ")\n",
    "gen_valid = steps_generator(\n",
    "    df_np_valid, steps=steps, batch_size=batch_size, fire_as_feature=False\n",
    ")\n",
    "gen_test = steps_generator(\n",
    "    df_np_test, steps=steps, batch_size=batch_size, fire_as_feature=False\n",
    ")"
   ]
  },
  {
   "cell_type": "code",
   "execution_count": 33,
   "metadata": {},
   "outputs": [
    {
     "name": "stdout",
     "output_type": "stream",
     "text": [
      "steps_per_epoch:  158\n",
      "validation_steps:  21\n",
      "test_steps:  21\n",
      "full_steps:  204\n"
     ]
    }
   ],
   "source": [
    "# .fit_generator method needs to know how many time it have to call the generators during one epoch\n",
    "if fixed_batch_size == False:\n",
    "    steps_per_epoch = math.ceil((len(df_np_train) - (steps - 1)) / batch_size)\n",
    "    validation_steps = math.ceil((len(df_np_valid) - (steps - 1)) / batch_size)\n",
    "    test_steps = math.ceil((len(df_np_test) - (steps - 1)) / batch_size)\n",
    "    full_steps = math.ceil((len(df_np_full) - (steps - 1)) / batch_size)\n",
    "else:\n",
    "    steps_per_epoch = (len(df_np_train) - (steps - 1)) // batch_size\n",
    "    validation_steps = (len(df_np_valid) - (steps - 1)) // batch_size\n",
    "    test_steps = (len(df_np_test) - (steps - 1)) // batch_size\n",
    "    full_steps = (len(df_np_full) - (steps - 1)) // batch_size\n",
    "print(\"steps_per_epoch: \", steps_per_epoch)\n",
    "print(\"validation_steps: \", validation_steps)\n",
    "print(\"test_steps: \", test_steps)\n",
    "print(\"full_steps: \", full_steps)"
   ]
  },
  {
   "cell_type": "code",
   "execution_count": 34,
   "metadata": {},
   "outputs": [
    {
     "name": "stdout",
     "output_type": "stream",
     "text": [
      "Epoch 1/150\n",
      "158/158 [==============================] - 224s 1s/step - loss: 1.3505 - val_loss: 1.8882\n",
      "Epoch 2/150\n",
      "158/158 [==============================] - 214s 1s/step - loss: 0.7909 - val_loss: 1.8736\n",
      "Epoch 3/150\n",
      "158/158 [==============================] - 214s 1s/step - loss: 0.7845 - val_loss: 1.8623\n",
      "Epoch 4/150\n",
      "158/158 [==============================] - 214s 1s/step - loss: 0.7826 - val_loss: 1.8571\n",
      "Epoch 5/150\n",
      "158/158 [==============================] - 214s 1s/step - loss: 0.7821 - val_loss: 1.8575\n",
      "Epoch 6/150\n",
      "158/158 [==============================] - 214s 1s/step - loss: 0.7746 - val_loss: 1.8225\n",
      "Epoch 7/150\n",
      "158/158 [==============================] - 214s 1s/step - loss: 0.7582 - val_loss: 1.7917\n",
      "Epoch 8/150\n",
      "158/158 [==============================] - 214s 1s/step - loss: 0.7375 - val_loss: 1.7597\n",
      "Epoch 9/150\n",
      "158/158 [==============================] - 214s 1s/step - loss: 0.7390 - val_loss: 1.7595\n",
      "Epoch 10/150\n",
      "158/158 [==============================] - 214s 1s/step - loss: 0.7347 - val_loss: 1.8512\n",
      "Epoch 11/150\n",
      "158/158 [==============================] - 214s 1s/step - loss: 0.7249 - val_loss: 1.7452\n",
      "Epoch 12/150\n",
      "158/158 [==============================] - 214s 1s/step - loss: 0.7254 - val_loss: 1.7413\n",
      "Epoch 13/150\n",
      "158/158 [==============================] - 214s 1s/step - loss: 0.7234 - val_loss: 1.7631\n",
      "Epoch 14/150\n",
      "158/158 [==============================] - 214s 1s/step - loss: 0.7240 - val_loss: 1.7604\n",
      "Epoch 15/150\n",
      "158/158 [==============================] - 214s 1s/step - loss: 0.7181 - val_loss: 1.7694\n",
      "Epoch 16/150\n",
      "158/158 [==============================] - 214s 1s/step - loss: 0.7246 - val_loss: 1.7526\n",
      "Epoch 17/150\n",
      "158/158 [==============================] - 214s 1s/step - loss: 0.7211 - val_loss: 1.7559\n",
      "Epoch 18/150\n",
      "158/158 [==============================] - 214s 1s/step - loss: 0.7274 - val_loss: 1.7478\n",
      "Epoch 19/150\n",
      "158/158 [==============================] - 214s 1s/step - loss: 0.7194 - val_loss: 1.7236\n",
      "Epoch 20/150\n",
      "158/158 [==============================] - 214s 1s/step - loss: 0.7127 - val_loss: 1.7180\n",
      "Epoch 21/150\n",
      "158/158 [==============================] - 214s 1s/step - loss: 0.7105 - val_loss: 1.7085\n",
      "Epoch 22/150\n",
      "158/158 [==============================] - 214s 1s/step - loss: 0.7072 - val_loss: 1.6975\n",
      "Epoch 23/150\n",
      "158/158 [==============================] - 214s 1s/step - loss: 0.7054 - val_loss: 1.6998\n",
      "Epoch 24/150\n",
      "158/158 [==============================] - 214s 1s/step - loss: 0.7042 - val_loss: 1.6981\n",
      "Epoch 25/150\n",
      "158/158 [==============================] - 214s 1s/step - loss: 0.7040 - val_loss: 1.6966\n",
      "Epoch 26/150\n",
      "158/158 [==============================] - 214s 1s/step - loss: 0.7027 - val_loss: 1.6921\n",
      "Epoch 27/150\n",
      "158/158 [==============================] - 214s 1s/step - loss: 0.7021 - val_loss: 1.6869\n",
      "Epoch 28/150\n",
      "158/158 [==============================] - 214s 1s/step - loss: 0.7021 - val_loss: 1.6998\n",
      "Epoch 29/150\n",
      "158/158 [==============================] - 214s 1s/step - loss: 0.7018 - val_loss: 1.6905\n",
      "Epoch 30/150\n",
      "158/158 [==============================] - 214s 1s/step - loss: 0.7011 - val_loss: 1.6886\n",
      "Epoch 31/150\n",
      "158/158 [==============================] - 214s 1s/step - loss: 0.7003 - val_loss: 1.6851\n",
      "Epoch 32/150\n",
      "158/158 [==============================] - 214s 1s/step - loss: 0.6994 - val_loss: 1.6843\n",
      "Epoch 33/150\n",
      "158/158 [==============================] - 214s 1s/step - loss: 0.6995 - val_loss: 1.6893\n",
      "Epoch 34/150\n",
      "158/158 [==============================] - 214s 1s/step - loss: 0.6980 - val_loss: 1.6824\n",
      "Epoch 35/150\n",
      "158/158 [==============================] - 214s 1s/step - loss: 0.6977 - val_loss: 1.6869\n",
      "Epoch 36/150\n",
      "158/158 [==============================] - 214s 1s/step - loss: 0.6978 - val_loss: 1.6772\n",
      "Epoch 37/150\n",
      "143/158 [==========================>...] - ETA: 19s - loss: 0.6850"
     ]
    }
   ],
   "source": [
    "# this starts a bit slow, but with n_step_in and not many features isnt much\n",
    "# slower than the .fit method\n",
    "# but works with large number of steps and features\n",
    "# we have to adjust batchsize in order to not use too much ram, as with lots of features, steps, batchsize\n",
    "# even one batch can be too large\n",
    "H = model.fit_generator(\n",
    "    generator=gen_train,\n",
    "    steps_per_epoch=steps_per_epoch,\n",
    "    epochs=150,\n",
    "    validation_data=gen_valid,\n",
    "    validation_steps=validation_steps,\n",
    "    callbacks=[rLR],\n",
    ")"
   ]
  },
  {
   "cell_type": "code",
   "execution_count": 35,
   "metadata": {},
   "outputs": [
    {
     "data": {
      "image/png": "[encoded data removed]",
      "text/plain": [
       "<Figure size 432x288 with 1 Axes>"
      ]
     },
     "metadata": {
      "needs_background": "light"
     },
     "output_type": "display_data"
    }
   ],
   "source": [
    "history = model.history\n",
    "plot_history(history, title=\"BCE Loss\")"
   ]
  },
  {
   "cell_type": "markdown",
   "metadata": {},
   "source": [
    "# Make Prediction for VALIDATION data"
   ]
  },
  {
   "cell_type": "code",
   "execution_count": 36,
   "metadata": {},
   "outputs": [
    {
     "data": {
      "text/plain": [
       "(671, 60, 20, 17, 1)"
      ]
     },
     "execution_count": 36,
     "metadata": {},
     "output_type": "execute_result"
    }
   ],
   "source": [
    "fire_pred = model.predict_generator(generator=gen_valid, steps=validation_steps)\n",
    "fire_pred.shape"
   ]
  },
  {
   "cell_type": "markdown",
   "metadata": {},
   "source": [
    "# Inverse transform test data and prediction"
   ]
  },
  {
   "cell_type": "code",
   "execution_count": 37,
   "metadata": {},
   "outputs": [
    {
     "name": "stdout",
     "output_type": "stream",
     "text": [
      "fire_pred shape:  (671, 60, 20, 17)\n",
      "fire_real shape:  (730, 20, 17)\n"
     ]
    }
   ],
   "source": [
    "# inverse transform prediction_data and test_data to original range\n",
    "# drop unecessary dimensions for easier handling\n",
    "fire_pred = scaler_label.inverse_transform(fire_pred)\n",
    "fire_pred = fire_pred.squeeze()\n",
    "fire_real = scaler_label.inverse_transform(df_np_valid[:, :, :, -1])\n",
    "print(\"fire_pred shape: \", fire_pred.shape)\n",
    "print(\"fire_real shape: \", fire_real.shape)"
   ]
  },
  {
   "cell_type": "code",
   "execution_count": 38,
   "metadata": {},
   "outputs": [
    {
     "data": {
      "image/png": "[encoded data removed]",
      "text/plain": [
       "<Figure size 432x288 with 1 Axes>"
      ]
     },
     "metadata": {
      "needs_background": "light"
     },
     "output_type": "display_data"
    }
   ],
   "source": [
    "plt.hist(fire_pred.flatten());"
   ]
  },
  {
   "cell_type": "code",
   "execution_count": 39,
   "metadata": {},
   "outputs": [
    {
     "data": {
      "text/plain": [
       "DescribeResult(nobs=13688400, minmax=(-1.4281664, 1.7654427), mean=-0.97084427, variance=0.01586915, skewness=5.402036190032959, kurtosis=59.69682722218926)"
      ]
     },
     "execution_count": 39,
     "metadata": {},
     "output_type": "execute_result"
    }
   ],
   "source": [
    "pred_stats = stats.describe(fire_pred.flatten())\n",
    "pred_stats"
   ]
  },
  {
   "cell_type": "markdown",
   "metadata": {},
   "source": [
    "## Transform prediction and observation to the same dim"
   ]
  },
  {
   "cell_type": "code",
   "execution_count": 40,
   "metadata": {},
   "outputs": [],
   "source": [
    "# convert the real data to the same shape as forecast for easier usage\n",
    "# make a container with the shape of the forecasted data (which has steps, but observation doesnt)\n",
    "extended_fire_real = np.zeros_like(fire_pred)"
   ]
  },
  {
   "cell_type": "code",
   "execution_count": 41,
   "metadata": {},
   "outputs": [],
   "source": [
    "# convert the observed fire to the same dims as prediction with steps calculated from a given starting time\n",
    "for start_time in range(len(extended_fire_real)):\n",
    "    for i in range(steps):\n",
    "        extended_fire_real[start_time, i, :, :] = fire_real[start_time + i, :, :]"
   ]
  },
  {
   "cell_type": "code",
   "execution_count": 42,
   "metadata": {},
   "outputs": [
    {
     "data": {
      "text/plain": [
       "(671, 60, 20, 17)"
      ]
     },
     "execution_count": 42,
     "metadata": {},
     "output_type": "execute_result"
    }
   ],
   "source": [
    "fire_pred.shape"
   ]
  },
  {
   "cell_type": "code",
   "execution_count": 43,
   "metadata": {},
   "outputs": [
    {
     "data": {
      "text/plain": [
       "(671, 60, 20, 17)"
      ]
     },
     "execution_count": 43,
     "metadata": {},
     "output_type": "execute_result"
    }
   ],
   "source": [
    "extended_fire_real.shape"
   ]
  },
  {
   "cell_type": "markdown",
   "metadata": {},
   "source": [
    "# Calculate the scores"
   ]
  },
  {
   "cell_type": "code",
   "execution_count": 44,
   "metadata": {},
   "outputs": [
    {
     "name": "stderr",
     "output_type": "stream",
     "text": [
      "/opt/conda/lib/python3.6/site-packages/sklearn/metrics/classification.py:1439: UndefinedMetricWarning: F-score is ill-defined and being set to 0.0 due to no true samples.\n",
      "  'recall', 'true', average, warn_for)\n",
      "/opt/conda/lib/python3.6/site-packages/sklearn/metrics/classification.py:1439: UndefinedMetricWarning: Recall is ill-defined and being set to 0.0 due to no true samples.\n",
      "  'recall', 'true', average, warn_for)\n"
     ]
    }
   ],
   "source": [
    "# calculate the scores with different thresholds\n",
    "# th_scores [threshold, f1, precision, recall]\n",
    "th_scores = []\n",
    "for th in np.linspace(fire_pred.min(), fire_pred.max(), num=100, endpoint=False):\n",
    "    fire_pred_exist = (fire_pred > th).astype(int)\n",
    "    extended_fire_real_exist = (extended_fire_real > 0).astype(int)\n",
    "    f1 = f1_score(\n",
    "        fire_pred_exist[:, -1, :, :].flatten(),\n",
    "        extended_fire_real_exist[:, -1, :, :].flatten(),\n",
    "        pos_label=1,\n",
    "    )\n",
    "    recall = recall_score(\n",
    "        fire_pred_exist[:, -1, :, :].flatten(),\n",
    "        extended_fire_real_exist[:, -1, :, :].flatten(),\n",
    "        pos_label=1,\n",
    "    )\n",
    "    precision = precision_score(\n",
    "        fire_pred_exist[:, -1, :, :].flatten(),\n",
    "        extended_fire_real_exist[:, -1, :, :].flatten(),\n",
    "        pos_label=1,\n",
    "    )\n",
    "    th_scores.append([th, f1, precision, recall])"
   ]
  },
  {
   "cell_type": "code",
   "execution_count": 45,
   "metadata": {},
   "outputs": [
    {
     "data": {
      "image/png": "[encoded data removed]",
      "text/plain": [
       "<Figure size 576x576 with 1 Axes>"
      ]
     },
     "metadata": {
      "needs_background": "light"
     },
     "output_type": "display_data"
    }
   ],
   "source": [
    "df_th = pd.DataFrame(th_scores, columns=[\"th\", \"f1\", \"precision\", \"recall\"])\n",
    "df_th.plot(x=\"th\", y=[\"f1\", \"precision\", \"recall\"], figsize=(8, 8))"
   ]
  },
  {
   "cell_type": "code",
   "execution_count": 46,
   "metadata": {},
   "outputs": [
    {
     "name": "stdout",
     "output_type": "stream",
     "text": [
      "best_threshold based on f1:  -0.8852528393268586\n",
      "f1:  0.15695921282336137\n",
      "precision:  0.30379358009522345\n",
      "recall:  0.10581501096667202\n"
     ]
    }
   ],
   "source": [
    "best_threshold = df_th.loc[df_th[\"f1\"].idxmax()][\"th\"]\n",
    "print(\"best_threshold based on f1: \", best_threshold)\n",
    "print(\"f1: \", df_th.loc[df_th[\"f1\"].idxmax()][\"f1\"])\n",
    "print(\"precision: \", df_th.loc[df_th[\"f1\"].idxmax()][\"precision\"])\n",
    "print(\"recall: \", df_th.loc[df_th[\"f1\"].idxmax()][\"recall\"])"
   ]
  },
  {
   "cell_type": "markdown",
   "metadata": {},
   "source": [
    "# Make Prediction for TEST data"
   ]
  },
  {
   "cell_type": "code",
   "execution_count": 47,
   "metadata": {},
   "outputs": [
    {
     "data": {
      "text/plain": [
       "(669, 60, 20, 17, 1)"
      ]
     },
     "execution_count": 47,
     "metadata": {},
     "output_type": "execute_result"
    }
   ],
   "source": [
    "fire_pred = model.predict_generator(generator=gen_test, steps=test_steps)\n",
    "fire_pred.shape"
   ]
  },
  {
   "cell_type": "markdown",
   "metadata": {},
   "source": [
    "## Inverse transform test data and prediction"
   ]
  },
  {
   "cell_type": "code",
   "execution_count": 48,
   "metadata": {},
   "outputs": [
    {
     "name": "stdout",
     "output_type": "stream",
     "text": [
      "fire_pred shape:  (669, 60, 20, 17)\n",
      "fire_real shape:  (728, 20, 17)\n"
     ]
    }
   ],
   "source": [
    "# inverse transform prediction_data and test_data to original range\n",
    "# drop unecessary dimensions for easier handling\n",
    "fire_pred = scaler_label.inverse_transform(fire_pred)\n",
    "fire_pred = fire_pred.squeeze()\n",
    "fire_real = scaler_label.inverse_transform(df_np_test[:, :, :, -1])\n",
    "print(\"fire_pred shape: \", fire_pred.shape)\n",
    "print(\"fire_real shape: \", fire_real.shape)"
   ]
  },
  {
   "cell_type": "code",
   "execution_count": 49,
   "metadata": {},
   "outputs": [
    {
     "data": {
      "image/png": "[encoded data removed]",
      "text/plain": [
       "<Figure size 432x288 with 1 Axes>"
      ]
     },
     "metadata": {
      "needs_background": "light"
     },
     "output_type": "display_data"
    }
   ],
   "source": [
    "plt.hist(fire_pred.flatten())"
   ]
  },
  {
   "cell_type": "markdown",
   "metadata": {},
   "source": [
    "## Make fire/non-fire separation"
   ]
  },
  {
   "cell_type": "code",
   "execution_count": 50,
   "metadata": {},
   "outputs": [],
   "source": [
    "# make matrices where 1 is fire existence, zero is none existence\n",
    "fire_pred_exist = (fire_pred > best_threshold).astype(int)\n",
    "fire_real_exist = (fire_real > 0).astype(int)"
   ]
  },
  {
   "cell_type": "code",
   "execution_count": 51,
   "metadata": {},
   "outputs": [],
   "source": [
    "# convert the real data to the same shape as forecast for easier usage\n",
    "# make a container with the shape of the forecasted data (which has steps, but observation doesnt)\n",
    "extended_fire_real_exist = np.zeros_like(fire_pred_exist)\n",
    "extended_fire_real = np.zeros_like(fire_pred)"
   ]
  },
  {
   "cell_type": "code",
   "execution_count": 52,
   "metadata": {},
   "outputs": [],
   "source": [
    "# convert the observed fire to the same dims as prediction with steps calculated from a given starting time\n",
    "for start_time in range(len(extended_fire_real_exist)):\n",
    "    for i in range(steps):\n",
    "        extended_fire_real_exist[start_time, i, :, :] = fire_real_exist[\n",
    "            start_time + i, :, :\n",
    "        ]\n",
    "        extended_fire_real[start_time, i, :, :] = fire_real[start_time + i, :, :]"
   ]
  },
  {
   "cell_type": "code",
   "execution_count": 53,
   "metadata": {},
   "outputs": [
    {
     "data": {
      "text/plain": [
       "(669, 60, 20, 17)"
      ]
     },
     "execution_count": 53,
     "metadata": {},
     "output_type": "execute_result"
    }
   ],
   "source": [
    "fire_pred_exist.shape"
   ]
  },
  {
   "cell_type": "code",
   "execution_count": 54,
   "metadata": {},
   "outputs": [
    {
     "data": {
      "text/plain": [
       "(669, 60, 20, 17)"
      ]
     },
     "execution_count": 54,
     "metadata": {},
     "output_type": "execute_result"
    }
   ],
   "source": [
    "extended_fire_real_exist.shape"
   ]
  },
  {
   "cell_type": "code",
   "execution_count": 55,
   "metadata": {},
   "outputs": [
    {
     "data": {
      "text/plain": [
       "DescribeResult(nobs=13647600, minmax=(-1.4079112, 1.701974), mean=-0.96548426, variance=0.019092334, skewness=5.247375011444092, kurtosis=55.06997186729915)"
      ]
     },
     "execution_count": 55,
     "metadata": {},
     "output_type": "execute_result"
    }
   ],
   "source": [
    "pred_stats = stats.describe(fire_pred.flatten())\n",
    "pred_stats"
   ]
  },
  {
   "cell_type": "code",
   "execution_count": 56,
   "metadata": {},
   "outputs": [
    {
     "data": {
      "text/plain": [
       "(-1.4079112, 1.701974)"
      ]
     },
     "execution_count": 56,
     "metadata": {},
     "output_type": "execute_result"
    }
   ],
   "source": [
    "pred_stats.minmax"
   ]
  },
  {
   "cell_type": "markdown",
   "metadata": {},
   "source": [
    "## Last step score\n",
    "As here we are only interested of the last step output, we need only that score."
   ]
  },
  {
   "cell_type": "code",
   "execution_count": 57,
   "metadata": {},
   "outputs": [
    {
     "data": {
      "text/plain": [
       "array([[201664,   3375],\n",
       "       [ 19247,   3174]])"
      ]
     },
     "execution_count": 57,
     "metadata": {},
     "output_type": "execute_result"
    }
   ],
   "source": [
    "confusion_matrix(\n",
    "    fire_pred_exist[:, -1, :, :].flatten(),\n",
    "    extended_fire_real_exist[:, -1, :, :].flatten(),\n",
    ")"
   ]
  },
  {
   "cell_type": "code",
   "execution_count": 58,
   "metadata": {},
   "outputs": [
    {
     "data": {
      "text/plain": [
       "(array([0.91287442, 0.48465415]),\n",
       " array([0.98353972, 0.14156371]),\n",
       " array([0.94689048, 0.21912323]),\n",
       " array([205039,  22421]))"
      ]
     },
     "execution_count": 58,
     "metadata": {},
     "output_type": "execute_result"
    }
   ],
   "source": [
    "precision_recall_fscore_support(\n",
    "    fire_pred_exist[:, -1, :, :].flatten(),\n",
    "    extended_fire_real_exist[:, -1, :, :].flatten(),\n",
    ")"
   ]
  },
  {
   "cell_type": "markdown",
   "metadata": {},
   "source": [
    "## Plot some examples"
   ]
  },
  {
   "cell_type": "code",
   "execution_count": 59,
   "metadata": {},
   "outputs": [
    {
     "data": {
      "text/plain": [
       "-0.5784677267074585"
      ]
     },
     "execution_count": 59,
     "metadata": {},
     "output_type": "execute_result"
    }
   ],
   "source": [
    "np.quantile(fire_pred[(fire_pred > best_threshold)], 0.8)"
   ]
  },
  {
   "cell_type": "code",
   "execution_count": 60,
   "metadata": {},
   "outputs": [],
   "source": [
    "vmin = best_threshold\n",
    "vmax = np.quantile(\n",
    "    fire_pred[(fire_pred > best_threshold)], 0.8\n",
    ")  # the 0.8 quantile of the fiery cells\n",
    "vmin_broad = (pred_stats.minmax[0] + best_threshold) * 0.5\n",
    "\n",
    "\n",
    "def plot_fires_by_step(start_steps=[0, 50, 100], figsize=(10, 8), vmin=vmin, vmax=vmax):\n",
    "    \"\"\"\n",
    "    Plots the last step of forecast, as now we are interested in \n",
    "    the fire potential after a period of weather\n",
    "    \"\"\"\n",
    "    f, axarr = plt.subplots(4, len(start_steps), figsize=figsize)\n",
    "    for i, st in enumerate(start_steps):\n",
    "        axarr[0, i].imshow(\n",
    "            fire_pred[st, -1, :, :],\n",
    "            origin=\"lower\",\n",
    "            vmin=vmin - 0.05,\n",
    "            vmax=vmax,\n",
    "            cmap=\"jet\",\n",
    "        )\n",
    "        axarr[0, i].set_title(\"Pr-br {}\".format(st))\n",
    "        axarr[1, i].imshow(\n",
    "            fire_pred[st, -1, :, :], origin=\"lower\", vmin=vmin, vmax=vmax, cmap=\"jet\"\n",
    "        )\n",
    "        axarr[1, i].set_title(\"Pr {}\".format(st))\n",
    "        axarr[2, i].imshow(\n",
    "            fire_pred_exist[st, -1, :, :],\n",
    "            origin=\"lower\",\n",
    "            vmin=0,\n",
    "            vmax=1,\n",
    "            cmap=\"nipy_spectral\",\n",
    "        )\n",
    "        axarr[2, i].set_title(\"Pr exst {}\".format(st))\n",
    "        axarr[3, i].imshow(\n",
    "            extended_fire_real[st, -1, :, :],\n",
    "            origin=\"lower\",\n",
    "            vmin=0,\n",
    "            vmax=1,\n",
    "            cmap=\"nipy_spectral\",\n",
    "        )\n",
    "        axarr[3, i].set_title(\"Act {}\".format(st))"
   ]
  },
  {
   "cell_type": "code",
   "execution_count": 61,
   "metadata": {},
   "outputs": [],
   "source": [
    "max_fires = np.argmax(fire_pred.sum(axis=3).sum(axis=2)[:, -1], axis=0)\n",
    "min_fires = np.argmin(fire_pred.sum(axis=3).sum(axis=2)[:, -1], axis=0)"
   ]
  },
  {
   "cell_type": "code",
   "execution_count": 62,
   "metadata": {},
   "outputs": [
    {
     "data": {
      "image/png": "[encoded data removed]",
      "text/plain": [
       "<Figure size 1728x864 with 48 Axes>"
      ]
     },
     "metadata": {
      "needs_background": "light"
     },
     "output_type": "display_data"
    }
   ],
   "source": [
    "# lets see the 30th . . .360th day / the [0]th data is the forecast from 0th day,\n",
    "# but we use the last step, so that must be added to this number to get the date\n",
    "plot_fires_by_step(\n",
    "    start_steps=[0, 60, 120, 180, 240, 300, 360, 420, 480, 540, 600, 660],\n",
    "    figsize=(24, 12),\n",
    ")"
   ]
  },
  {
   "cell_type": "code",
   "execution_count": 63,
   "metadata": {},
   "outputs": [
    {
     "data": {
      "image/png": "[encoded data removed]",
      "text/plain": [
       "<Figure size 288x720 with 8 Axes>"
      ]
     },
     "metadata": {
      "needs_background": "light"
     },
     "output_type": "display_data"
    }
   ],
   "source": [
    "# less and most fiery days according to the model\n",
    "plot_fires_by_step(start_steps=[min_fires, max_fires], figsize=(4, 10))"
   ]
  },
  {
   "cell_type": "markdown",
   "metadata": {},
   "source": [
    "# Make full dataset prediction"
   ]
  },
  {
   "cell_type": "code",
   "execution_count": 64,
   "metadata": {},
   "outputs": [],
   "source": [
    "gen_full = steps_generator(\n",
    "    df_np_full, steps=steps, batch_size=batch_size, fire_as_feature=False\n",
    ")"
   ]
  },
  {
   "cell_type": "code",
   "execution_count": 65,
   "metadata": {},
   "outputs": [
    {
     "data": {
      "text/plain": [
       "(6510, 60, 20, 17, 1)"
      ]
     },
     "execution_count": 65,
     "metadata": {},
     "output_type": "execute_result"
    }
   ],
   "source": [
    "fire_pred_full = model.predict_generator(generator=gen_full, steps=full_steps)\n",
    "fire_pred_full.shape"
   ]
  },
  {
   "cell_type": "code",
   "execution_count": 66,
   "metadata": {},
   "outputs": [],
   "source": [
    "fire_pred_full = fire_pred_full[:, -1, :, :, :].squeeze()"
   ]
  },
  {
   "cell_type": "code",
   "execution_count": 67,
   "metadata": {},
   "outputs": [
    {
     "data": {
      "text/plain": [
       "(6510, 20, 17)"
      ]
     },
     "execution_count": 67,
     "metadata": {},
     "output_type": "execute_result"
    }
   ],
   "source": [
    "fire_pred_full.shape"
   ]
  },
  {
   "cell_type": "code",
   "execution_count": 68,
   "metadata": {},
   "outputs": [
    {
     "data": {
      "text/plain": [
       "'2010-02-01_00:00:00'"
      ]
     },
     "execution_count": 68,
     "metadata": {},
     "output_type": "execute_result"
    }
   ],
   "source": [
    "prediction_start = pd.date_range(first_time, periods=1) + pd.Timedelta(\n",
    "    hours=(steps - 1) * 12\n",
    ")\n",
    "prediction_start[0].strftime(\"%Y-%m-%d_%H:%M:%S\")"
   ]
  },
  {
   "cell_type": "code",
   "execution_count": 69,
   "metadata": {},
   "outputs": [],
   "source": [
    "filename = f\"start_2010-02-01_00h_step_12h.pickle_commit5\""
   ]
  },
  {
   "cell_type": "code",
   "execution_count": 71,
   "metadata": {},
   "outputs": [],
   "source": [
    "with open(filename, \"wb\") as handle:\n",
    "    pickle.dump(fire_pred_full, handle, protocol=pickle.HIGHEST_PROTOCOL)"
   ]
  }
 ],
 "metadata": {
  "kernelspec": {
   "display_name": "Python 3",
   "language": "python",
   "name": "python3"
  },
  "language_info": {
   "codemirror_mode": {
    "name": "ipython",
    "version": 3
   },
   "file_extension": ".py",
   "mimetype": "text/x-python",
   "name": "python",
   "nbconvert_exporter": "python",
   "pygments_lexer": "ipython3",
   "version": "3.7.3"
  }
 },
 "nbformat": 4,
 "nbformat_minor": 1
}
