{
 "cells": [
  {
   "cell_type": "markdown",
   "metadata": {},
   "source": [
    "## Imports"
   ]
  },
  {
   "cell_type": "code",
   "execution_count": 1,
   "metadata": {
    "_cell_guid": "b1076dfc-b9ad-4769-8c92-a6c4dae69d19",
    "_uuid": "8f2839f25d086af736a60e9eeb907d3b93b6e0e5"
   },
   "outputs": [
    {
     "name": "stderr",
     "output_type": "stream",
     "text": [
      "Using TensorFlow backend.\n"
     ]
    }
   ],
   "source": [
    "import datetime\n",
    "import gc\n",
    "import math\n",
    "import os\n",
    "import pickle\n",
    "import random\n",
    "import sys\n",
    "import time\n",
    "\n",
    "import keras.backend as K\n",
    "import numpy as np  # linear algebra\n",
    "import pandas as pd  # data processing, CSV file I/O (e.g. pd.read_csv)\n",
    "import pylab as plt\n",
    "import tensorflow as tf\n",
    "from keras import regularizers\n",
    "from keras.backend import squeeze\n",
    "from keras.callbacks import EarlyStopping, ReduceLROnPlateau\n",
    "from keras.initializers import Constant, glorot_uniform, lecun_uniform\n",
    "from keras.layers import (LSTM, BatchNormalization, Conv3D, ConvLSTM2D, Input,\n",
    "                          Lambda, Reshape)\n",
    "from keras.losses import (binary_crossentropy, mean_absolute_error,\n",
    "                          mean_squared_error)\n",
    "from keras.models import Model, Sequential\n",
    "from keras.optimizers import Adadelta\n",
    "from keras.utils import plot_model\n",
    "from matplotlib import colorbar\n",
    "from matplotlib.colors import ListedColormap, Normalize, from_levels_and_colors\n",
    "from matplotlib.pyplot import savefig\n",
    "from mpl_toolkits.axes_grid1 import AxesGrid, ImageGrid\n",
    "from numpy.random import seed\n",
    "from sklearn.metrics import (confusion_matrix, f1_score,\n",
    "                             precision_recall_fscore_support, precision_score,\n",
    "                             recall_score)\n",
    "from sklearn.preprocessing import StandardScaler\n",
    "from sklearn.utils import class_weight\n",
    "from tensorflow import set_random_seed\n",
    "\n",
    "%matplotlib inline\n",
    "\n",
    "print(os.listdir(\"../input/\"))"
   ]
  },
  {
   "cell_type": "markdown",
   "metadata": {},
   "source": [
    "# Config"
   ]
  },
  {
   "cell_type": "code",
   "execution_count": 2,
   "metadata": {},
   "outputs": [],
   "source": [
    "# choose a number of time steps\n",
    "steps = n_steps_in = n_steps_out = 8\n",
    "\n",
    "# model config\n",
    "batch_size = 64\n",
    "n_epochs = 100\n",
    "verbose = 1\n",
    "patience = 10\n",
    "restore_weights = True\n",
    "\n",
    "# .fit_generator method needs to know how many time it has to call the generators during one epoch\n",
    "fixed_batch_size = False"
   ]
  },
  {
   "cell_type": "markdown",
   "metadata": {},
   "source": [
    "# Utils"
   ]
  },
  {
   "cell_type": "code",
   "execution_count": 3,
   "metadata": {},
   "outputs": [],
   "source": [
    "# reduce memory usage by converting to proper data types\n",
    "def reduce_mem_usage(df):\n",
    "    \"\"\" iterate through all the columns of a dataframe and modify the data type\n",
    "        to reduce memory usage.        \n",
    "    \"\"\"\n",
    "    start_mem = df.memory_usage().sum() / 1024 ** 2\n",
    "    print(\"Memory usage of dataframe is {:.2f} MB\".format(start_mem))\n",
    "\n",
    "    for col in df.columns:\n",
    "        col_type = df[col].dtype\n",
    "\n",
    "        if col_type != object:\n",
    "            c_min = df[col].min()\n",
    "            c_max = df[col].max()\n",
    "            if str(col_type)[:3] == \"int\":\n",
    "                if c_min > np.iinfo(np.int8).min and c_max < np.iinfo(np.int8).max:\n",
    "                    df[col] = df[col].astype(np.int8)\n",
    "                elif c_min > np.iinfo(np.int16).min and c_max < np.iinfo(np.int16).max:\n",
    "                    df[col] = df[col].astype(np.int16)\n",
    "                elif c_min > np.iinfo(np.int32).min and c_max < np.iinfo(np.int32).max:\n",
    "                    df[col] = df[col].astype(np.int32)\n",
    "                elif c_min > np.iinfo(np.int64).min and c_max < np.iinfo(np.int64).max:\n",
    "                    df[col] = df[col].astype(np.int64)\n",
    "            else:\n",
    "                if (\n",
    "                    c_min > np.finfo(np.float16).min\n",
    "                    and c_max < np.finfo(np.float16).max\n",
    "                ):\n",
    "                    df[col] = df[col].astype(np.float16)\n",
    "                elif (\n",
    "                    c_min > np.finfo(np.float32).min\n",
    "                    and c_max < np.finfo(np.float32).max\n",
    "                ):\n",
    "                    df[col] = df[col].astype(np.float32)\n",
    "                else:\n",
    "                    df[col] = df[col].astype(np.float64)\n",
    "        else:\n",
    "            df[col] = df[col].astype(\"category\")\n",
    "\n",
    "    end_mem = df.memory_usage().sum() / 1024 ** 2\n",
    "    print(\"Memory usage after optimization is: {:.2f} MB\".format(end_mem))\n",
    "    print(\"Decreased by {:.1f}%\".format(100 * (start_mem - end_mem) / start_mem))\n",
    "\n",
    "    return df\n",
    "\n",
    "\n",
    "# split a multivariate sequence into samples\n",
    "def split_sequences(sequences, n_steps_in, n_steps_out, batch_size):\n",
    "    X, y = list(), list()\n",
    "    for i in range(len(sequences)):\n",
    "        # find the end of this pattern\n",
    "        end_ix = i + n_steps_in\n",
    "        out_end_ix = end_ix + n_steps_out\n",
    "        # check if we are beyond the dataset\n",
    "        if out_end_ix > len(sequences):\n",
    "            break\n",
    "        # gather input and output parts of the pattern\n",
    "        seq_x, seq_y = (\n",
    "            sequences[i:end_ix, :, :, :],\n",
    "            sequences[end_ix:out_end_ix, :, :, -1, np.newaxis],\n",
    "        )\n",
    "        X.append(seq_x)\n",
    "        y.append(seq_y)\n",
    "    size = (len(X) // batch_size) * batch_size\n",
    "    return np.array(X[-size:]), np.array(y[-size:])\n",
    "\n",
    "\n",
    "# plot train/val loss across the epochs\n",
    "def plot_history(history, title=\"loss\"):\n",
    "    loss_list = [s for s in history.history.keys() if \"loss\" in s and \"val\" not in s]\n",
    "    val_loss_list = [s for s in history.history.keys() if \"loss\" in s and \"val\" in s]\n",
    "\n",
    "    if len(loss_list) == 0:\n",
    "        print(\"Loss is missing in history\")\n",
    "        return\n",
    "\n",
    "    ## As loss always exists\n",
    "    epochs = range(1, len(history.history[loss_list[0]]) + 1)\n",
    "\n",
    "    ## Loss\n",
    "    plt.figure(1)\n",
    "    for l in loss_list:\n",
    "        plt.plot(\n",
    "            epochs,\n",
    "            history.history[l],\n",
    "            \"b\",\n",
    "            label=\"Training loss (\"\n",
    "            + str(str(format(history.history[l][-1], \".5f\")) + \")\"),\n",
    "        )\n",
    "    for l in val_loss_list:\n",
    "        plt.plot(\n",
    "            epochs,\n",
    "            history.history[l],\n",
    "            \"g\",\n",
    "            label=\"Validation loss (\"\n",
    "            + str(str(format(history.history[l][-1], \".5f\")) + \")\"),\n",
    "        )\n",
    "\n",
    "    plt.title(title)\n",
    "    plt.xlabel(\"Epochs\")\n",
    "    plt.ylabel(\"Loss\")\n",
    "    plt.legend()\n",
    "\n",
    "    plt.show()\n",
    "\n",
    "\n",
    "# plot predictions and actuals\n",
    "def plot_preds(\n",
    "    preds,\n",
    "    y_valid,\n",
    "    num_preds=n_steps_out,\n",
    "    valid=True,\n",
    "    vmin=0.0,\n",
    "    vmax=1.0,\n",
    "    figsize=(6, 6),\n",
    "):\n",
    "    fig, axarr = plt.subplots(2, num_preds, figsize=figsize)\n",
    "    for idx in range(num_preds):\n",
    "        im = axarr[0, idx].imshow(\n",
    "            preds[idx, :, :, 0], origin=\"lower\", vmin=vmin, vmax=vmax, cmap=plt.cm.Reds\n",
    "        )\n",
    "        axarr[0, idx].set_title(\"Pred {}\".format(idx + 1))\n",
    "        if valid:\n",
    "            im = axarr[1, idx].imshow(\n",
    "                y_valid[idx, :, :, 0],\n",
    "                origin=\"lower\",\n",
    "                vmin=vmin,\n",
    "                vmax=vmax,\n",
    "                cmap=plt.cm.Reds,\n",
    "            )\n",
    "            axarr[1, idx].set_title(\"Actual {}\".format(idx + 1))\n",
    "\n",
    "    fig.subplots_adjust(wspace=0.2, hspace=num_preds / 10)\n",
    "    cax, kw = colorbar.make_axes([ax for ax in axarr.flat])\n",
    "    plt.colorbar(im, cax=cax, **kw)\n",
    "    plt.show()\n",
    "\n",
    "\n",
    "def plot_single_cm(cm, ax, title):\n",
    "    classes = [\"No Fire\", \"Fire\"]\n",
    "    vmax = np.max(cm)\n",
    "    im = ax.imshow(cm, vmin=0.0, vmax=vmax, cmap=plt.cm.Blues)\n",
    "    # We want to show all ticks...\n",
    "    ax.set(\n",
    "        xticks=np.arange(cm.shape[1]),\n",
    "        yticks=np.arange(cm.shape[0]),\n",
    "        # ... and label them with the respective list entries\n",
    "        xticklabels=classes,\n",
    "        yticklabels=classes,\n",
    "        title=title,\n",
    "        ylabel=\"True label\",\n",
    "        xlabel=\"Predicted label\",\n",
    "    )\n",
    "\n",
    "    # Rotate the tick labels and set their alignment.\n",
    "    plt.setp(ax.get_xticklabels(), rotation=45, ha=\"right\", rotation_mode=\"anchor\")\n",
    "\n",
    "    # Loop over data dimensions and create text annotations.\n",
    "    thresh = cm.max() / 2.0\n",
    "    for i in range(cm.shape[0]):\n",
    "        for j in range(cm.shape[1]):\n",
    "            ax.text(\n",
    "                j,\n",
    "                i,\n",
    "                format(cm[i, j]),\n",
    "                ha=\"center\",\n",
    "                va=\"center\",\n",
    "                color=\"white\" if cm[i, j] > thresh else \"black\",\n",
    "            )\n",
    "    return im, ax"
   ]
  },
  {
   "cell_type": "markdown",
   "metadata": {},
   "source": [
    "# Load Data"
   ]
  },
  {
   "cell_type": "code",
   "execution_count": 4,
   "metadata": {},
   "outputs": [],
   "source": [
    "dtype_dict = {\n",
    "    \"lat\": np.float16,\n",
    "    \"lon\": np.float16,\n",
    "    \"U2M\": np.float16,\n",
    "    \"T2M\": np.float16,\n",
    "    \"V50M\": np.float16,\n",
    "    \"T10M\": np.float16,\n",
    "    \"SLP\": np.float32,\n",
    "    \"V2M\": np.float16,\n",
    "    \"V10M\": np.float16,\n",
    "    \"U50M\": np.float16,\n",
    "    \"U10M\": np.float16,\n",
    "    \"QV2M\": np.float16,\n",
    "    \"QV10M\": np.float16,\n",
    "    \"SPEEDMAX\": np.float16,\n",
    "    \"BSTAR\": np.float16,\n",
    "    \"PRECTOT\": np.float16,\n",
    "    \"GWETTOP\": np.float16,\n",
    "    \"LAI\": np.float32,\n",
    "    \"GWETROOT\": np.float32,\n",
    "    \"GRN\": np.float32,\n",
    "    \"TSURF\": np.float32,\n",
    "    \"EVI\": np.float32,\n",
    "    \"MIR\": np.float32,\n",
    "    \"EVI_wasNA\": np.bool,\n",
    "    \"MIR_wasNA\": np.bool,\n",
    "    \"fire_count\": np.float16,\n",
    "    \"dayOfYear\": np.int16,\n",
    "    \"dayOfWeek\": np.int8,\n",
    "    \"population density\": np.float16,\n",
    "    \"SGH\": np.float16,\n",
    "    \"lat\": np.float16,\n",
    "    \"lon\": np.float16,\n",
    "    \"elevation\": np.float16,\n",
    "    \"agriculture\": np.float16,\n",
    "    \"forest\": np.float16,\n",
    "    \"grassland\": np.float16,\n",
    "    \"wetland\": np.float16,\n",
    "    \"settlement\": np.float16,\n",
    "    \"shrubland\": np.float16,\n",
    "    \"sparse_veg\": np.float16,\n",
    "    \"bare_area\": np.float16,\n",
    "    \"water\": np.float16,\n",
    "}"
   ]
  },
  {
   "cell_type": "code",
   "execution_count": 5,
   "metadata": {
    "_cell_guid": "79c7e3d0-c299-4dcb-8224-4455121ee9b0",
    "_uuid": "d629ff2d2480ee46fbb7e2d37f6b5fab8052498a"
   },
   "outputs": [
    {
     "data": {
      "text/plain": [
       "(2233460, 32)"
      ]
     },
     "execution_count": 5,
     "metadata": {},
     "output_type": "execute_result"
    }
   ],
   "source": [
    "pd.set_option(\"display.max_colwidth\", 1000)  # set optins to show all columns\n",
    "\n",
    "chunks = pd.read_csv(\n",
    "    \"../input/ibm-fire-dataset-builder-3-6-hr/basegrid_12h.csv\",\n",
    "    index_col=[\"timestamp\", \"lat\", \"lon\"],\n",
    "    chunksize=10e5,\n",
    "    usecols=[\n",
    "        \"timestamp\",\n",
    "        \"lat\",\n",
    "        \"lon\",\n",
    "        \"U2M\",\n",
    "        \"T2M\",\n",
    "        \"T10M\",\n",
    "        \"SLP\",\n",
    "        \"V2M\",\n",
    "        \"V10M\",\n",
    "        \"U10M\",\n",
    "        \"QV2M\",\n",
    "        \"QV10M\",\n",
    "        \"BSTAR\",\n",
    "        \"GWETTOP\",\n",
    "        \"LAI\",\n",
    "        \"GWETROOT\",\n",
    "        \"GRN\",\n",
    "        \"TSURF\",\n",
    "        \"MIR\",\n",
    "        \"population density\",\n",
    "        \"SGH\",\n",
    "        \"elevation\",\n",
    "        \"agriculture\",\n",
    "        \"forest\",\n",
    "        \"grassland\",\n",
    "        \"wetland\",\n",
    "        \"settlement\",\n",
    "        \"shrubland\",\n",
    "        \"sparse_veg\",\n",
    "        \"bare_area\",\n",
    "        \"water\",\n",
    "        \"PRECTOT\",\n",
    "        \"sin_dayOfYear\",\n",
    "        \"cos_dayOfYear\",\n",
    "        \"fire_count\",\n",
    "    ],\n",
    ")\n",
    "\n",
    "df = pd.concat(chunk for chunk in chunks)\n",
    "\n",
    "num_rows, num_cols = df.shape\n",
    "num_rows, num_cols"
   ]
  },
  {
   "cell_type": "code",
   "execution_count": 6,
   "metadata": {},
   "outputs": [
    {
     "data": {
      "text/plain": [
       "['__results__.html',\n",
       " '__results___files',\n",
       " 'start_2010-02-01_00h_step_12h_pred_noinputfire_th_min08853_colormax_min06308.csv',\n",
       " 'start_2010-02-01_00h_step_12h_pred_noinputfire_shifted_to_zero_scaled_up_to_8.csv',\n",
       " '__notebook__.ipynb',\n",
       " '__output__.json',\n",
       " 'custom.css']"
      ]
     },
     "execution_count": 6,
     "metadata": {},
     "output_type": "execute_result"
    }
   ],
   "source": [
    "os.listdir(\"../input/ibm-fire-non-fire-input-data-conversion-to-pandas/\")"
   ]
  },
  {
   "cell_type": "code",
   "execution_count": 7,
   "metadata": {},
   "outputs": [],
   "source": [
    "nofire_df = pd.read_csv(\n",
    "    \"../input/\"\n",
    "    \"ibm-fire-non-fire-input-data-conversion-to-pandas/\"\n",
    "    \"start_2010-02-01_00h_step_12h_pred_noinputfire_shifted_to_zero_scaled_up_to_8.csv\"\n",
    ")"
   ]
  },
  {
   "cell_type": "code",
   "execution_count": 8,
   "metadata": {},
   "outputs": [
    {
     "data": {
      "text/html": [
       "<div>\n",
       "<style scoped>\n",
       "    .dataframe tbody tr th:only-of-type {\n",
       "        vertical-align: middle;\n",
       "    }\n",
       "\n",
       "    .dataframe tbody tr th {\n",
       "        vertical-align: top;\n",
       "    }\n",
       "\n",
       "    .dataframe thead th {\n",
       "        text-align: right;\n",
       "    }\n",
       "</style>\n",
       "<table border=\"1\" class=\"dataframe\">\n",
       "  <thead>\n",
       "    <tr style=\"text-align: right;\">\n",
       "      <th></th>\n",
       "      <th>time</th>\n",
       "      <th>lat</th>\n",
       "      <th>lon</th>\n",
       "      <th>fire_potential</th>\n",
       "    </tr>\n",
       "  </thead>\n",
       "  <tbody>\n",
       "    <tr>\n",
       "      <th>0</th>\n",
       "      <td>2010-02-01 00:00:00</td>\n",
       "      <td>32.5</td>\n",
       "      <td>-123.750</td>\n",
       "      <td>-2.228501</td>\n",
       "    </tr>\n",
       "    <tr>\n",
       "      <th>1</th>\n",
       "      <td>2010-02-01 00:00:00</td>\n",
       "      <td>32.5</td>\n",
       "      <td>-123.125</td>\n",
       "      <td>-2.781150</td>\n",
       "    </tr>\n",
       "    <tr>\n",
       "      <th>2</th>\n",
       "      <td>2010-02-01 00:00:00</td>\n",
       "      <td>32.5</td>\n",
       "      <td>-122.500</td>\n",
       "      <td>-2.945652</td>\n",
       "    </tr>\n",
       "    <tr>\n",
       "      <th>3</th>\n",
       "      <td>2010-02-01 00:00:00</td>\n",
       "      <td>32.5</td>\n",
       "      <td>-121.875</td>\n",
       "      <td>-2.371143</td>\n",
       "    </tr>\n",
       "    <tr>\n",
       "      <th>4</th>\n",
       "      <td>2010-02-01 00:00:00</td>\n",
       "      <td>32.5</td>\n",
       "      <td>-121.250</td>\n",
       "      <td>-3.545576</td>\n",
       "    </tr>\n",
       "  </tbody>\n",
       "</table>\n",
       "</div>"
      ],
      "text/plain": [
       "                  time   lat      lon  fire_potential\n",
       "0  2010-02-01 00:00:00  32.5 -123.750       -2.228501\n",
       "1  2010-02-01 00:00:00  32.5 -123.125       -2.781150\n",
       "2  2010-02-01 00:00:00  32.5 -122.500       -2.945652\n",
       "3  2010-02-01 00:00:00  32.5 -121.875       -2.371143\n",
       "4  2010-02-01 00:00:00  32.5 -121.250       -3.545576"
      ]
     },
     "execution_count": 8,
     "metadata": {},
     "output_type": "execute_result"
    }
   ],
   "source": [
    "nofire_df.head()"
   ]
  },
  {
   "cell_type": "code",
   "execution_count": 9,
   "metadata": {},
   "outputs": [],
   "source": [
    "df = df.query('timestamp >= \"2010-02-01 00:00:00\"')"
   ]
  },
  {
   "cell_type": "code",
   "execution_count": 10,
   "metadata": {},
   "outputs": [],
   "source": [
    "df[\"nofire_preds\"] = nofire_df.loc[:, \"fire_potential\"].values"
   ]
  },
  {
   "cell_type": "code",
   "execution_count": 11,
   "metadata": {},
   "outputs": [
    {
     "data": {
      "text/html": [
       "<div>\n",
       "<style scoped>\n",
       "    .dataframe tbody tr th:only-of-type {\n",
       "        vertical-align: middle;\n",
       "    }\n",
       "\n",
       "    .dataframe tbody tr th {\n",
       "        vertical-align: top;\n",
       "    }\n",
       "\n",
       "    .dataframe thead th {\n",
       "        text-align: right;\n",
       "    }\n",
       "</style>\n",
       "<table border=\"1\" class=\"dataframe\">\n",
       "  <thead>\n",
       "    <tr style=\"text-align: right;\">\n",
       "      <th></th>\n",
       "      <th></th>\n",
       "      <th></th>\n",
       "      <th>U2M</th>\n",
       "      <th>T2M</th>\n",
       "      <th>T10M</th>\n",
       "      <th>SLP</th>\n",
       "      <th>V2M</th>\n",
       "      <th>V10M</th>\n",
       "      <th>U10M</th>\n",
       "      <th>QV2M</th>\n",
       "      <th>QV10M</th>\n",
       "      <th>BSTAR</th>\n",
       "      <th>...</th>\n",
       "      <th>settlement</th>\n",
       "      <th>shrubland</th>\n",
       "      <th>sparse_veg</th>\n",
       "      <th>bare_area</th>\n",
       "      <th>water</th>\n",
       "      <th>PRECTOT</th>\n",
       "      <th>fire_count</th>\n",
       "      <th>sin_dayOfYear</th>\n",
       "      <th>cos_dayOfYear</th>\n",
       "      <th>nofire_preds</th>\n",
       "    </tr>\n",
       "    <tr>\n",
       "      <th>timestamp</th>\n",
       "      <th>lat</th>\n",
       "      <th>lon</th>\n",
       "      <th></th>\n",
       "      <th></th>\n",
       "      <th></th>\n",
       "      <th></th>\n",
       "      <th></th>\n",
       "      <th></th>\n",
       "      <th></th>\n",
       "      <th></th>\n",
       "      <th></th>\n",
       "      <th></th>\n",
       "      <th></th>\n",
       "      <th></th>\n",
       "      <th></th>\n",
       "      <th></th>\n",
       "      <th></th>\n",
       "      <th></th>\n",
       "      <th></th>\n",
       "      <th></th>\n",
       "      <th></th>\n",
       "      <th></th>\n",
       "      <th></th>\n",
       "    </tr>\n",
       "  </thead>\n",
       "  <tbody>\n",
       "    <tr>\n",
       "      <th rowspan=\"5\" valign=\"top\">2010-02-01 00:00:00</th>\n",
       "      <th rowspan=\"5\" valign=\"top\">32.5</th>\n",
       "      <th>-123.750</th>\n",
       "      <td>2.117</td>\n",
       "      <td>286.5</td>\n",
       "      <td>286.5</td>\n",
       "      <td>101656.870</td>\n",
       "      <td>1.3910</td>\n",
       "      <td>1.5390</td>\n",
       "      <td>2.324</td>\n",
       "      <td>0.007263</td>\n",
       "      <td>0.007020</td>\n",
       "      <td>0.002820</td>\n",
       "      <td>...</td>\n",
       "      <td>0.0</td>\n",
       "      <td>0.0</td>\n",
       "      <td>0.0</td>\n",
       "      <td>0.0</td>\n",
       "      <td>1.0</td>\n",
       "      <td>2.150000e-06</td>\n",
       "      <td>-20.0</td>\n",
       "      <td>0.523416</td>\n",
       "      <td>0.852078</td>\n",
       "      <td>-2.228501</td>\n",
       "    </tr>\n",
       "    <tr>\n",
       "      <th>-123.125</th>\n",
       "      <td>2.428</td>\n",
       "      <td>286.5</td>\n",
       "      <td>286.5</td>\n",
       "      <td>101659.945</td>\n",
       "      <td>-0.3367</td>\n",
       "      <td>-0.3608</td>\n",
       "      <td>2.660</td>\n",
       "      <td>0.007088</td>\n",
       "      <td>0.006836</td>\n",
       "      <td>0.002327</td>\n",
       "      <td>...</td>\n",
       "      <td>0.0</td>\n",
       "      <td>0.0</td>\n",
       "      <td>0.0</td>\n",
       "      <td>0.0</td>\n",
       "      <td>1.0</td>\n",
       "      <td>3.000000e-07</td>\n",
       "      <td>-20.0</td>\n",
       "      <td>0.523416</td>\n",
       "      <td>0.852078</td>\n",
       "      <td>-2.781150</td>\n",
       "    </tr>\n",
       "    <tr>\n",
       "      <th>-122.500</th>\n",
       "      <td>2.793</td>\n",
       "      <td>286.5</td>\n",
       "      <td>286.2</td>\n",
       "      <td>101645.620</td>\n",
       "      <td>-1.9590</td>\n",
       "      <td>-2.1640</td>\n",
       "      <td>3.082</td>\n",
       "      <td>0.007065</td>\n",
       "      <td>0.006780</td>\n",
       "      <td>0.002668</td>\n",
       "      <td>...</td>\n",
       "      <td>0.0</td>\n",
       "      <td>0.0</td>\n",
       "      <td>0.0</td>\n",
       "      <td>0.0</td>\n",
       "      <td>1.0</td>\n",
       "      <td>0.000000e+00</td>\n",
       "      <td>-20.0</td>\n",
       "      <td>0.523416</td>\n",
       "      <td>0.852078</td>\n",
       "      <td>-2.945652</td>\n",
       "    </tr>\n",
       "    <tr>\n",
       "      <th>-121.875</th>\n",
       "      <td>3.172</td>\n",
       "      <td>286.8</td>\n",
       "      <td>286.5</td>\n",
       "      <td>101625.340</td>\n",
       "      <td>-3.2700</td>\n",
       "      <td>-3.6660</td>\n",
       "      <td>3.553</td>\n",
       "      <td>0.007164</td>\n",
       "      <td>0.006832</td>\n",
       "      <td>0.002777</td>\n",
       "      <td>...</td>\n",
       "      <td>0.0</td>\n",
       "      <td>0.0</td>\n",
       "      <td>0.0</td>\n",
       "      <td>0.0</td>\n",
       "      <td>1.0</td>\n",
       "      <td>0.000000e+00</td>\n",
       "      <td>-20.0</td>\n",
       "      <td>0.523416</td>\n",
       "      <td>0.852078</td>\n",
       "      <td>-2.371143</td>\n",
       "    </tr>\n",
       "    <tr>\n",
       "      <th>-121.250</th>\n",
       "      <td>3.188</td>\n",
       "      <td>286.8</td>\n",
       "      <td>286.5</td>\n",
       "      <td>101580.610</td>\n",
       "      <td>-3.9510</td>\n",
       "      <td>-4.4840</td>\n",
       "      <td>3.620</td>\n",
       "      <td>0.007484</td>\n",
       "      <td>0.007175</td>\n",
       "      <td>0.002129</td>\n",
       "      <td>...</td>\n",
       "      <td>0.0</td>\n",
       "      <td>0.0</td>\n",
       "      <td>0.0</td>\n",
       "      <td>0.0</td>\n",
       "      <td>1.0</td>\n",
       "      <td>0.000000e+00</td>\n",
       "      <td>-20.0</td>\n",
       "      <td>0.523416</td>\n",
       "      <td>0.852078</td>\n",
       "      <td>-3.545576</td>\n",
       "    </tr>\n",
       "  </tbody>\n",
       "</table>\n",
       "<p>5 rows × 33 columns</p>\n",
       "</div>"
      ],
      "text/plain": [
       "                                     U2M    T2M   T10M         SLP     V2M  \\\n",
       "timestamp           lat  lon                                                 \n",
       "2010-02-01 00:00:00 32.5 -123.750  2.117  286.5  286.5  101656.870  1.3910   \n",
       "                         -123.125  2.428  286.5  286.5  101659.945 -0.3367   \n",
       "                         -122.500  2.793  286.5  286.2  101645.620 -1.9590   \n",
       "                         -121.875  3.172  286.8  286.5  101625.340 -3.2700   \n",
       "                         -121.250  3.188  286.8  286.5  101580.610 -3.9510   \n",
       "\n",
       "                                     V10M   U10M      QV2M     QV10M  \\\n",
       "timestamp           lat  lon                                           \n",
       "2010-02-01 00:00:00 32.5 -123.750  1.5390  2.324  0.007263  0.007020   \n",
       "                         -123.125 -0.3608  2.660  0.007088  0.006836   \n",
       "                         -122.500 -2.1640  3.082  0.007065  0.006780   \n",
       "                         -121.875 -3.6660  3.553  0.007164  0.006832   \n",
       "                         -121.250 -4.4840  3.620  0.007484  0.007175   \n",
       "\n",
       "                                      BSTAR      ...       settlement  \\\n",
       "timestamp           lat  lon                     ...                    \n",
       "2010-02-01 00:00:00 32.5 -123.750  0.002820      ...              0.0   \n",
       "                         -123.125  0.002327      ...              0.0   \n",
       "                         -122.500  0.002668      ...              0.0   \n",
       "                         -121.875  0.002777      ...              0.0   \n",
       "                         -121.250  0.002129      ...              0.0   \n",
       "\n",
       "                                   shrubland  sparse_veg  bare_area  water  \\\n",
       "timestamp           lat  lon                                                 \n",
       "2010-02-01 00:00:00 32.5 -123.750        0.0         0.0        0.0    1.0   \n",
       "                         -123.125        0.0         0.0        0.0    1.0   \n",
       "                         -122.500        0.0         0.0        0.0    1.0   \n",
       "                         -121.875        0.0         0.0        0.0    1.0   \n",
       "                         -121.250        0.0         0.0        0.0    1.0   \n",
       "\n",
       "                                        PRECTOT  fire_count  sin_dayOfYear  \\\n",
       "timestamp           lat  lon                                                 \n",
       "2010-02-01 00:00:00 32.5 -123.750  2.150000e-06       -20.0       0.523416   \n",
       "                         -123.125  3.000000e-07       -20.0       0.523416   \n",
       "                         -122.500  0.000000e+00       -20.0       0.523416   \n",
       "                         -121.875  0.000000e+00       -20.0       0.523416   \n",
       "                         -121.250  0.000000e+00       -20.0       0.523416   \n",
       "\n",
       "                                   cos_dayOfYear  nofire_preds  \n",
       "timestamp           lat  lon                                    \n",
       "2010-02-01 00:00:00 32.5 -123.750       0.852078     -2.228501  \n",
       "                         -123.125       0.852078     -2.781150  \n",
       "                         -122.500       0.852078     -2.945652  \n",
       "                         -121.875       0.852078     -2.371143  \n",
       "                         -121.250       0.852078     -3.545576  \n",
       "\n",
       "[5 rows x 33 columns]"
      ]
     },
     "execution_count": 11,
     "metadata": {},
     "output_type": "execute_result"
    }
   ],
   "source": [
    "df.head()"
   ]
  },
  {
   "cell_type": "code",
   "execution_count": 12,
   "metadata": {},
   "outputs": [],
   "source": [
    "cols = [x for x in df.columns if x not in [\"fire_count\", \"nofire_preds\"]]\n",
    "cols.append(\"nofire_preds\")\n",
    "cols.append(\"fire_count\")\n",
    "df = df[cols]"
   ]
  },
  {
   "cell_type": "code",
   "execution_count": 13,
   "metadata": {},
   "outputs": [
    {
     "data": {
      "text/html": [
       "<div>\n",
       "<style scoped>\n",
       "    .dataframe tbody tr th:only-of-type {\n",
       "        vertical-align: middle;\n",
       "    }\n",
       "\n",
       "    .dataframe tbody tr th {\n",
       "        vertical-align: top;\n",
       "    }\n",
       "\n",
       "    .dataframe thead th {\n",
       "        text-align: right;\n",
       "    }\n",
       "</style>\n",
       "<table border=\"1\" class=\"dataframe\">\n",
       "  <thead>\n",
       "    <tr style=\"text-align: right;\">\n",
       "      <th></th>\n",
       "      <th></th>\n",
       "      <th></th>\n",
       "      <th>U2M</th>\n",
       "      <th>T2M</th>\n",
       "      <th>T10M</th>\n",
       "      <th>SLP</th>\n",
       "      <th>V2M</th>\n",
       "      <th>V10M</th>\n",
       "      <th>U10M</th>\n",
       "      <th>QV2M</th>\n",
       "      <th>QV10M</th>\n",
       "      <th>BSTAR</th>\n",
       "      <th>...</th>\n",
       "      <th>settlement</th>\n",
       "      <th>shrubland</th>\n",
       "      <th>sparse_veg</th>\n",
       "      <th>bare_area</th>\n",
       "      <th>water</th>\n",
       "      <th>PRECTOT</th>\n",
       "      <th>sin_dayOfYear</th>\n",
       "      <th>cos_dayOfYear</th>\n",
       "      <th>nofire_preds</th>\n",
       "      <th>fire_count</th>\n",
       "    </tr>\n",
       "    <tr>\n",
       "      <th>timestamp</th>\n",
       "      <th>lat</th>\n",
       "      <th>lon</th>\n",
       "      <th></th>\n",
       "      <th></th>\n",
       "      <th></th>\n",
       "      <th></th>\n",
       "      <th></th>\n",
       "      <th></th>\n",
       "      <th></th>\n",
       "      <th></th>\n",
       "      <th></th>\n",
       "      <th></th>\n",
       "      <th></th>\n",
       "      <th></th>\n",
       "      <th></th>\n",
       "      <th></th>\n",
       "      <th></th>\n",
       "      <th></th>\n",
       "      <th></th>\n",
       "      <th></th>\n",
       "      <th></th>\n",
       "      <th></th>\n",
       "      <th></th>\n",
       "    </tr>\n",
       "  </thead>\n",
       "  <tbody>\n",
       "    <tr>\n",
       "      <th rowspan=\"5\" valign=\"top\">2010-02-01 00:00:00</th>\n",
       "      <th rowspan=\"5\" valign=\"top\">32.5</th>\n",
       "      <th>-123.750</th>\n",
       "      <td>2.117</td>\n",
       "      <td>286.5</td>\n",
       "      <td>286.5</td>\n",
       "      <td>101656.870</td>\n",
       "      <td>1.3910</td>\n",
       "      <td>1.5390</td>\n",
       "      <td>2.324</td>\n",
       "      <td>0.007263</td>\n",
       "      <td>0.007020</td>\n",
       "      <td>0.002820</td>\n",
       "      <td>...</td>\n",
       "      <td>0.0</td>\n",
       "      <td>0.0</td>\n",
       "      <td>0.0</td>\n",
       "      <td>0.0</td>\n",
       "      <td>1.0</td>\n",
       "      <td>2.150000e-06</td>\n",
       "      <td>0.523416</td>\n",
       "      <td>0.852078</td>\n",
       "      <td>-2.228501</td>\n",
       "      <td>-20.0</td>\n",
       "    </tr>\n",
       "    <tr>\n",
       "      <th>-123.125</th>\n",
       "      <td>2.428</td>\n",
       "      <td>286.5</td>\n",
       "      <td>286.5</td>\n",
       "      <td>101659.945</td>\n",
       "      <td>-0.3367</td>\n",
       "      <td>-0.3608</td>\n",
       "      <td>2.660</td>\n",
       "      <td>0.007088</td>\n",
       "      <td>0.006836</td>\n",
       "      <td>0.002327</td>\n",
       "      <td>...</td>\n",
       "      <td>0.0</td>\n",
       "      <td>0.0</td>\n",
       "      <td>0.0</td>\n",
       "      <td>0.0</td>\n",
       "      <td>1.0</td>\n",
       "      <td>3.000000e-07</td>\n",
       "      <td>0.523416</td>\n",
       "      <td>0.852078</td>\n",
       "      <td>-2.781150</td>\n",
       "      <td>-20.0</td>\n",
       "    </tr>\n",
       "    <tr>\n",
       "      <th>-122.500</th>\n",
       "      <td>2.793</td>\n",
       "      <td>286.5</td>\n",
       "      <td>286.2</td>\n",
       "      <td>101645.620</td>\n",
       "      <td>-1.9590</td>\n",
       "      <td>-2.1640</td>\n",
       "      <td>3.082</td>\n",
       "      <td>0.007065</td>\n",
       "      <td>0.006780</td>\n",
       "      <td>0.002668</td>\n",
       "      <td>...</td>\n",
       "      <td>0.0</td>\n",
       "      <td>0.0</td>\n",
       "      <td>0.0</td>\n",
       "      <td>0.0</td>\n",
       "      <td>1.0</td>\n",
       "      <td>0.000000e+00</td>\n",
       "      <td>0.523416</td>\n",
       "      <td>0.852078</td>\n",
       "      <td>-2.945652</td>\n",
       "      <td>-20.0</td>\n",
       "    </tr>\n",
       "    <tr>\n",
       "      <th>-121.875</th>\n",
       "      <td>3.172</td>\n",
       "      <td>286.8</td>\n",
       "      <td>286.5</td>\n",
       "      <td>101625.340</td>\n",
       "      <td>-3.2700</td>\n",
       "      <td>-3.6660</td>\n",
       "      <td>3.553</td>\n",
       "      <td>0.007164</td>\n",
       "      <td>0.006832</td>\n",
       "      <td>0.002777</td>\n",
       "      <td>...</td>\n",
       "      <td>0.0</td>\n",
       "      <td>0.0</td>\n",
       "      <td>0.0</td>\n",
       "      <td>0.0</td>\n",
       "      <td>1.0</td>\n",
       "      <td>0.000000e+00</td>\n",
       "      <td>0.523416</td>\n",
       "      <td>0.852078</td>\n",
       "      <td>-2.371143</td>\n",
       "      <td>-20.0</td>\n",
       "    </tr>\n",
       "    <tr>\n",
       "      <th>-121.250</th>\n",
       "      <td>3.188</td>\n",
       "      <td>286.8</td>\n",
       "      <td>286.5</td>\n",
       "      <td>101580.610</td>\n",
       "      <td>-3.9510</td>\n",
       "      <td>-4.4840</td>\n",
       "      <td>3.620</td>\n",
       "      <td>0.007484</td>\n",
       "      <td>0.007175</td>\n",
       "      <td>0.002129</td>\n",
       "      <td>...</td>\n",
       "      <td>0.0</td>\n",
       "      <td>0.0</td>\n",
       "      <td>0.0</td>\n",
       "      <td>0.0</td>\n",
       "      <td>1.0</td>\n",
       "      <td>0.000000e+00</td>\n",
       "      <td>0.523416</td>\n",
       "      <td>0.852078</td>\n",
       "      <td>-3.545576</td>\n",
       "      <td>-20.0</td>\n",
       "    </tr>\n",
       "  </tbody>\n",
       "</table>\n",
       "<p>5 rows × 33 columns</p>\n",
       "</div>"
      ],
      "text/plain": [
       "                                     U2M    T2M   T10M         SLP     V2M  \\\n",
       "timestamp           lat  lon                                                 \n",
       "2010-02-01 00:00:00 32.5 -123.750  2.117  286.5  286.5  101656.870  1.3910   \n",
       "                         -123.125  2.428  286.5  286.5  101659.945 -0.3367   \n",
       "                         -122.500  2.793  286.5  286.2  101645.620 -1.9590   \n",
       "                         -121.875  3.172  286.8  286.5  101625.340 -3.2700   \n",
       "                         -121.250  3.188  286.8  286.5  101580.610 -3.9510   \n",
       "\n",
       "                                     V10M   U10M      QV2M     QV10M  \\\n",
       "timestamp           lat  lon                                           \n",
       "2010-02-01 00:00:00 32.5 -123.750  1.5390  2.324  0.007263  0.007020   \n",
       "                         -123.125 -0.3608  2.660  0.007088  0.006836   \n",
       "                         -122.500 -2.1640  3.082  0.007065  0.006780   \n",
       "                         -121.875 -3.6660  3.553  0.007164  0.006832   \n",
       "                         -121.250 -4.4840  3.620  0.007484  0.007175   \n",
       "\n",
       "                                      BSTAR     ...      settlement  \\\n",
       "timestamp           lat  lon                    ...                   \n",
       "2010-02-01 00:00:00 32.5 -123.750  0.002820     ...             0.0   \n",
       "                         -123.125  0.002327     ...             0.0   \n",
       "                         -122.500  0.002668     ...             0.0   \n",
       "                         -121.875  0.002777     ...             0.0   \n",
       "                         -121.250  0.002129     ...             0.0   \n",
       "\n",
       "                                   shrubland  sparse_veg  bare_area  water  \\\n",
       "timestamp           lat  lon                                                 \n",
       "2010-02-01 00:00:00 32.5 -123.750        0.0         0.0        0.0    1.0   \n",
       "                         -123.125        0.0         0.0        0.0    1.0   \n",
       "                         -122.500        0.0         0.0        0.0    1.0   \n",
       "                         -121.875        0.0         0.0        0.0    1.0   \n",
       "                         -121.250        0.0         0.0        0.0    1.0   \n",
       "\n",
       "                                        PRECTOT  sin_dayOfYear  cos_dayOfYear  \\\n",
       "timestamp           lat  lon                                                    \n",
       "2010-02-01 00:00:00 32.5 -123.750  2.150000e-06       0.523416       0.852078   \n",
       "                         -123.125  3.000000e-07       0.523416       0.852078   \n",
       "                         -122.500  0.000000e+00       0.523416       0.852078   \n",
       "                         -121.875  0.000000e+00       0.523416       0.852078   \n",
       "                         -121.250  0.000000e+00       0.523416       0.852078   \n",
       "\n",
       "                                   nofire_preds  fire_count  \n",
       "timestamp           lat  lon                                 \n",
       "2010-02-01 00:00:00 32.5 -123.750     -2.228501       -20.0  \n",
       "                         -123.125     -2.781150       -20.0  \n",
       "                         -122.500     -2.945652       -20.0  \n",
       "                         -121.875     -2.371143       -20.0  \n",
       "                         -121.250     -3.545576       -20.0  \n",
       "\n",
       "[5 rows x 33 columns]"
      ]
     },
     "execution_count": 13,
     "metadata": {},
     "output_type": "execute_result"
    }
   ],
   "source": [
    "df.head()"
   ]
  },
  {
   "cell_type": "code",
   "execution_count": 14,
   "metadata": {},
   "outputs": [
    {
     "data": {
      "text/plain": [
       "(2213400, 33)"
      ]
     },
     "execution_count": 14,
     "metadata": {},
     "output_type": "execute_result"
    }
   ],
   "source": [
    "df.shape"
   ]
  },
  {
   "cell_type": "code",
   "execution_count": 15,
   "metadata": {},
   "outputs": [
    {
     "name": "stdout",
     "output_type": "stream",
     "text": [
      "Memory usage of dataframe is 565.76 MB\n",
      "Memory usage after optimization is: 152.03 MB\n",
      "Decreased by 73.1%\n"
     ]
    }
   ],
   "source": [
    "df = reduce_mem_usage(df)"
   ]
  },
  {
   "cell_type": "code",
   "execution_count": 16,
   "metadata": {},
   "outputs": [
    {
     "data": {
      "text/plain": [
       "0"
      ]
     },
     "execution_count": 16,
     "metadata": {},
     "output_type": "execute_result"
    }
   ],
   "source": [
    "gc.collect()"
   ]
  },
  {
   "cell_type": "code",
   "execution_count": 17,
   "metadata": {},
   "outputs": [
    {
     "data": {
      "text/plain": [
       "count    2213400.0\n",
       "mean           NaN\n",
       "std            0.0\n",
       "min           -1.0\n",
       "25%           -1.0\n",
       "50%           -1.0\n",
       "75%           -1.0\n",
       "max          167.0\n",
       "Name: fire_count, dtype: float64"
      ]
     },
     "execution_count": 17,
     "metadata": {},
     "output_type": "execute_result"
    }
   ],
   "source": [
    "# set missing values to -1\n",
    "df[\"fire_count\"] = df[\"fire_count\"].replace(-20, -1)\n",
    "\n",
    "df[\"fire_count\"].describe()"
   ]
  },
  {
   "cell_type": "markdown",
   "metadata": {},
   "source": [
    "# Preprocess Data"
   ]
  },
  {
   "cell_type": "code",
   "execution_count": 18,
   "metadata": {},
   "outputs": [],
   "source": [
    "# scale the data\n",
    "# separate scaler for labels to easily scale back later\n",
    "scaler_features = StandardScaler()\n",
    "scaler_label = StandardScaler()\n",
    "df.loc[:, df.columns != \"fire_count\"] = scaler_features.fit_transform(\n",
    "    df.loc[:, df.columns != \"fire_count\"]\n",
    ")\n",
    "df.loc[:, df.columns == \"fire_count\"] = scaler_label.fit_transform(\n",
    "    df.loc[:, df.columns == \"fire_count\"]\n",
    ")"
   ]
  },
  {
   "cell_type": "code",
   "execution_count": 19,
   "metadata": {},
   "outputs": [
    {
     "data": {
      "text/plain": [
       "count    2.213400e+06\n",
       "mean     6.018168e-13\n",
       "std      1.000000e+00\n",
       "min     -7.718787e-02\n",
       "25%     -7.718787e-02\n",
       "50%     -7.718787e-02\n",
       "75%     -7.718787e-02\n",
       "max      2.122222e+02\n",
       "Name: fire_count, dtype: float64"
      ]
     },
     "execution_count": 19,
     "metadata": {},
     "output_type": "execute_result"
    }
   ],
   "source": [
    "df['fire_count'].describe()"
   ]
  },
  {
   "cell_type": "markdown",
   "metadata": {},
   "source": [
    "# Separate train, validation, test"
   ]
  },
  {
   "cell_type": "code",
   "execution_count": 20,
   "metadata": {},
   "outputs": [],
   "source": [
    "df_test = df.query('timestamp >= \"2018-01-01 00:00:00\"')\n",
    "df_valid = df.query(\n",
    "    '(timestamp < \"2018-01-01 00:00:00\") & (timestamp >= \"2017-01-01 00:00:00\")'\n",
    ")\n",
    "df = df.query('timestamp < \"2017-01-01 00:00:00\"')"
   ]
  },
  {
   "cell_type": "code",
   "execution_count": 21,
   "metadata": {},
   "outputs": [
    {
     "name": "stdout",
     "output_type": "stream",
     "text": [
      "Train Dimensions: 5052, 20, 17\n",
      "Validation Dimensions: 730, 20, 17\n",
      "Test Dimensions: 728, 20, 17\n",
      "Features:  33\n"
     ]
    }
   ],
   "source": [
    "# how many timestep we have, this is going to be our first dim\n",
    "dim_time_train = len(df.index.get_level_values(0).unique())\n",
    "dim_time_test = len(df_test.index.get_level_values(0).unique())\n",
    "dim_time_valid = len(df_valid.index.get_level_values(0).unique())\n",
    "# how many lat we have\n",
    "dim_lat = len(df.index.get_level_values(1).unique())\n",
    "# how many lon we have\n",
    "dim_lon = len(df.index.get_level_values(2).unique())\n",
    "# how many features if 'fire_count' is feature, and not only label\n",
    "features = len(df.columns)\n",
    "\n",
    "print(\"Train Dimensions: {}, {}, {}\".format(dim_time_train, dim_lat, dim_lon))\n",
    "print(\"Validation Dimensions: {}, {}, {}\".format(dim_time_valid, dim_lat, dim_lon))\n",
    "print(\"Test Dimensions: {}, {}, {}\".format(dim_time_test, dim_lat, dim_lon))\n",
    "print(\"Features: \", features)"
   ]
  },
  {
   "cell_type": "code",
   "execution_count": 22,
   "metadata": {},
   "outputs": [],
   "source": [
    "# convert pandas to our properly dimensionalized numpy arrays\n",
    "df_np_train = (\n",
    "    df.copy().values.reshape((dim_time_train, dim_lat, dim_lon, -1)).astype(np.float32)\n",
    ")\n",
    "df_np_valid = (\n",
    "    df_valid.copy()\n",
    "    .values.reshape((dim_time_valid, dim_lat, dim_lon, -1))\n",
    "    .astype(np.float32)\n",
    ")\n",
    "df_np_test = (\n",
    "    df_test.copy()\n",
    "    .values.reshape((dim_time_test, dim_lat, dim_lon, -1))\n",
    "    .astype(np.float32)\n",
    ")"
   ]
  },
  {
   "cell_type": "code",
   "execution_count": 23,
   "metadata": {},
   "outputs": [
    {
     "name": "stdout",
     "output_type": "stream",
     "text": [
      "(5052, 20, 17, 33)\n",
      "(730, 20, 17, 33)\n",
      "(728, 20, 17, 33)\n"
     ]
    }
   ],
   "source": [
    "# print out the shape\n",
    "print(df_np_train.shape)\n",
    "print(df_np_valid.shape)\n",
    "print(df_np_test.shape)"
   ]
  },
  {
   "cell_type": "code",
   "execution_count": 24,
   "metadata": {},
   "outputs": [
    {
     "data": {
      "text/plain": [
       "33"
      ]
     },
     "execution_count": 24,
     "metadata": {},
     "output_type": "execute_result"
    }
   ],
   "source": [
    "# del df\n",
    "# del df_valid\n",
    "# del df_test\n",
    "gc.collect()"
   ]
  },
  {
   "cell_type": "markdown",
   "metadata": {},
   "source": [
    "# Semitemporal Generator test\n",
    "\n",
    "In later kernels goes to utils, here I want to check and show it working."
   ]
  },
  {
   "cell_type": "code",
   "execution_count": 25,
   "metadata": {},
   "outputs": [],
   "source": [
    "def semitemp_generator(\n",
    "    sequences, batch_size, semitemporal_ixs, temporal_ixs, steps, fixed_batch_size=False\n",
    "):\n",
    "    X, y = list(), list()\n",
    "    is_end = False\n",
    "    i = 0\n",
    "    while i < (len(sequences)):\n",
    "        # find the end of this pattern\n",
    "        end_ix = i + steps\n",
    "        # check if we are beyond the dataset\n",
    "        if end_ix >= len(sequences):\n",
    "            end_ix = len(sequences)\n",
    "            is_end = True\n",
    "        # gather input and output parts of the pattern\n",
    "        seq_x = np.zeros_like(sequences[i:end_ix, :, :, :])\n",
    "        seq_x[:, :, :, temporal_ixs] = sequences[i:end_ix, :, :, temporal_ixs]\n",
    "        seq_x[:, :, :, semitemporal_ixs] = sequences[\n",
    "            i : i + 1, :, :, semitemporal_ixs\n",
    "        ]  # i:i+1 keeps dimensions\n",
    "        seq_y = sequences[i:end_ix, :, :, -1:]\n",
    "        X.append(seq_x)\n",
    "        y.append(seq_y)\n",
    "        i = i + 1\n",
    "        # if we have our batch_size, or reached the end of data\n",
    "        if ((len(X) > 0) and (len(X) % batch_size == 0)) or (is_end == True):\n",
    "            # only yield if we use the not fixed batch size option, or have full batch\n",
    "            if (fixed_batch_size == False) or (len(X) == batch_size):\n",
    "                yield np.array(X[:]), np.array(y[:])\n",
    "            X, y = list(), list()\n",
    "            if is_end == True:\n",
    "                i = 0\n",
    "                is_end = False"
   ]
  },
  {
   "cell_type": "code",
   "execution_count": 26,
   "metadata": {},
   "outputs": [
    {
     "data": {
      "text/html": [
       "<div>\n",
       "<style scoped>\n",
       "    .dataframe tbody tr th:only-of-type {\n",
       "        vertical-align: middle;\n",
       "    }\n",
       "\n",
       "    .dataframe tbody tr th {\n",
       "        vertical-align: top;\n",
       "    }\n",
       "\n",
       "    .dataframe thead th {\n",
       "        text-align: right;\n",
       "    }\n",
       "</style>\n",
       "<table border=\"1\" class=\"dataframe\">\n",
       "  <thead>\n",
       "    <tr style=\"text-align: right;\">\n",
       "      <th></th>\n",
       "      <th>0</th>\n",
       "    </tr>\n",
       "  </thead>\n",
       "  <tbody>\n",
       "    <tr>\n",
       "      <th>0</th>\n",
       "      <td>U2M</td>\n",
       "    </tr>\n",
       "    <tr>\n",
       "      <th>1</th>\n",
       "      <td>T2M</td>\n",
       "    </tr>\n",
       "    <tr>\n",
       "      <th>2</th>\n",
       "      <td>T10M</td>\n",
       "    </tr>\n",
       "    <tr>\n",
       "      <th>3</th>\n",
       "      <td>SLP</td>\n",
       "    </tr>\n",
       "    <tr>\n",
       "      <th>4</th>\n",
       "      <td>V2M</td>\n",
       "    </tr>\n",
       "    <tr>\n",
       "      <th>5</th>\n",
       "      <td>V10M</td>\n",
       "    </tr>\n",
       "    <tr>\n",
       "      <th>6</th>\n",
       "      <td>U10M</td>\n",
       "    </tr>\n",
       "    <tr>\n",
       "      <th>7</th>\n",
       "      <td>QV2M</td>\n",
       "    </tr>\n",
       "    <tr>\n",
       "      <th>8</th>\n",
       "      <td>QV10M</td>\n",
       "    </tr>\n",
       "    <tr>\n",
       "      <th>9</th>\n",
       "      <td>BSTAR</td>\n",
       "    </tr>\n",
       "    <tr>\n",
       "      <th>10</th>\n",
       "      <td>GWETTOP</td>\n",
       "    </tr>\n",
       "    <tr>\n",
       "      <th>11</th>\n",
       "      <td>LAI</td>\n",
       "    </tr>\n",
       "    <tr>\n",
       "      <th>12</th>\n",
       "      <td>GWETROOT</td>\n",
       "    </tr>\n",
       "    <tr>\n",
       "      <th>13</th>\n",
       "      <td>GRN</td>\n",
       "    </tr>\n",
       "    <tr>\n",
       "      <th>14</th>\n",
       "      <td>TSURF</td>\n",
       "    </tr>\n",
       "    <tr>\n",
       "      <th>15</th>\n",
       "      <td>MIR</td>\n",
       "    </tr>\n",
       "    <tr>\n",
       "      <th>16</th>\n",
       "      <td>population density</td>\n",
       "    </tr>\n",
       "    <tr>\n",
       "      <th>17</th>\n",
       "      <td>SGH</td>\n",
       "    </tr>\n",
       "    <tr>\n",
       "      <th>18</th>\n",
       "      <td>elevation</td>\n",
       "    </tr>\n",
       "    <tr>\n",
       "      <th>19</th>\n",
       "      <td>agriculture</td>\n",
       "    </tr>\n",
       "    <tr>\n",
       "      <th>20</th>\n",
       "      <td>forest</td>\n",
       "    </tr>\n",
       "    <tr>\n",
       "      <th>21</th>\n",
       "      <td>grassland</td>\n",
       "    </tr>\n",
       "    <tr>\n",
       "      <th>22</th>\n",
       "      <td>wetland</td>\n",
       "    </tr>\n",
       "    <tr>\n",
       "      <th>23</th>\n",
       "      <td>settlement</td>\n",
       "    </tr>\n",
       "    <tr>\n",
       "      <th>24</th>\n",
       "      <td>shrubland</td>\n",
       "    </tr>\n",
       "    <tr>\n",
       "      <th>25</th>\n",
       "      <td>sparse_veg</td>\n",
       "    </tr>\n",
       "    <tr>\n",
       "      <th>26</th>\n",
       "      <td>bare_area</td>\n",
       "    </tr>\n",
       "    <tr>\n",
       "      <th>27</th>\n",
       "      <td>water</td>\n",
       "    </tr>\n",
       "    <tr>\n",
       "      <th>28</th>\n",
       "      <td>PRECTOT</td>\n",
       "    </tr>\n",
       "    <tr>\n",
       "      <th>29</th>\n",
       "      <td>sin_dayOfYear</td>\n",
       "    </tr>\n",
       "    <tr>\n",
       "      <th>30</th>\n",
       "      <td>cos_dayOfYear</td>\n",
       "    </tr>\n",
       "    <tr>\n",
       "      <th>31</th>\n",
       "      <td>nofire_preds</td>\n",
       "    </tr>\n",
       "    <tr>\n",
       "      <th>32</th>\n",
       "      <td>fire_count</td>\n",
       "    </tr>\n",
       "  </tbody>\n",
       "</table>\n",
       "</div>"
      ],
      "text/plain": [
       "                     0\n",
       "0                  U2M\n",
       "1                  T2M\n",
       "2                 T10M\n",
       "3                  SLP\n",
       "4                  V2M\n",
       "5                 V10M\n",
       "6                 U10M\n",
       "7                 QV2M\n",
       "8                QV10M\n",
       "9                BSTAR\n",
       "10             GWETTOP\n",
       "11                 LAI\n",
       "12            GWETROOT\n",
       "13                 GRN\n",
       "14               TSURF\n",
       "15                 MIR\n",
       "16  population density\n",
       "17                 SGH\n",
       "18           elevation\n",
       "19         agriculture\n",
       "20              forest\n",
       "21           grassland\n",
       "22             wetland\n",
       "23          settlement\n",
       "24           shrubland\n",
       "25          sparse_veg\n",
       "26           bare_area\n",
       "27               water\n",
       "28             PRECTOT\n",
       "29       sin_dayOfYear\n",
       "30       cos_dayOfYear\n",
       "31        nofire_preds\n",
       "32          fire_count"
      ]
     },
     "execution_count": 26,
     "metadata": {},
     "output_type": "execute_result"
    }
   ],
   "source": [
    "pd.DataFrame(list(df_test.columns))"
   ]
  },
  {
   "cell_type": "code",
   "execution_count": 27,
   "metadata": {},
   "outputs": [],
   "source": [
    "# the indexes of temporals end semitemporals\n",
    "semitemporal_ixs = [10, 11, 12, 13, 15, 32]\n",
    "feature_ixs = [i for i in range(df_np_test.shape[3])]\n",
    "temporal_ixs = list(set(feature_ixs) - set(semitemporal_ixs))"
   ]
  },
  {
   "cell_type": "code",
   "execution_count": 28,
   "metadata": {},
   "outputs": [],
   "source": [
    "# instantiate the generator\n",
    "generator = semitemp_generator(\n",
    "    df_np_test,\n",
    "    batch_size=30,\n",
    "    semitemporal_ixs=semitemporal_ixs,\n",
    "    temporal_ixs=temporal_ixs,\n",
    "    steps=8,\n",
    "    fixed_batch_size=False,\n",
    ")"
   ]
  },
  {
   "cell_type": "code",
   "execution_count": 29,
   "metadata": {},
   "outputs": [
    {
     "name": "stdout",
     "output_type": "stream",
     "text": [
      "(30, 8, 20, 17, 33)\n"
     ]
    }
   ],
   "source": [
    "# generator test, when running this cell muliple times,\n",
    "# it will generate some full batch and a remainder batch one after another infinite\n",
    "print(next(generator)[0].shape)"
   ]
  },
  {
   "cell_type": "code",
   "execution_count": 30,
   "metadata": {},
   "outputs": [
    {
     "name": "stdout",
     "output_type": "stream",
     "text": [
      "[0.2715169  0.2715169  0.18865035 0.21627253 0.21627253 0.21627253\n",
      " 0.21627253 0.07816166]\n"
     ]
    }
   ],
   "source": [
    "# lets see a temporal:\n",
    "print(next(generator)[0][0, :, 0, 0, 1])"
   ]
  },
  {
   "cell_type": "code",
   "execution_count": 31,
   "metadata": {},
   "outputs": [
    {
     "name": "stdout",
     "output_type": "stream",
     "text": [
      "[1.7573775 1.7573775 1.7573775 1.7573775 1.7573775 1.7573775 1.7573775\n",
      " 1.7573775]\n",
      "1.7573775\n"
     ]
    }
   ],
   "source": [
    "# lets see a semi-temporal:\n",
    "print(next(generator)[0][0, :, 0, 0, 10])\n",
    "print(next(generator)[0][0, 0, 0, 0, 10])"
   ]
  },
  {
   "cell_type": "markdown",
   "metadata": {},
   "source": [
    "# Define Model"
   ]
  },
  {
   "cell_type": "code",
   "execution_count": 33,
   "metadata": {},
   "outputs": [],
   "source": [
    "def get_model(len_embed_cols, num_numeric_feats=features, filter_size=60):\n",
    "\n",
    "    model_out = []\n",
    "    model_in = []\n",
    "\n",
    "    filter_size = filter_size\n",
    "    kernel_size = (3, 3)\n",
    "    kernel_size_3D = (3, 3, 3)\n",
    "    recurrent_activation = \"tanh\"\n",
    "    bias_initializer = Constant(value=1.0)\n",
    "    kernel_initializer = glorot_uniform(seed=42)\n",
    "\n",
    "    inputs = Input(\n",
    "        shape=(steps, dim_lat, dim_lon, features), name=\"Input_num\", dtype=\"float32\"\n",
    "    )\n",
    "\n",
    "    outputs = ConvLSTM2D(\n",
    "        filters=filter_size,\n",
    "        kernel_size=kernel_size,\n",
    "        padding=\"same\",\n",
    "        data_format=\"channels_last\",\n",
    "        # inputs will have the same shape except on the final dimension, which now has the added\n",
    "        # embeddings, so we take the final dim merged\n",
    "        input_shape=(steps, dim_lat, dim_lon, features),\n",
    "        return_sequences=True,\n",
    "        unit_forget_bias=True,\n",
    "        bias_initializer=bias_initializer,\n",
    "        recurrent_activation=recurrent_activation,\n",
    "        go_backwards=False,\n",
    "        recurrent_dropout=0.3,\n",
    "        stateful=False,\n",
    "    )(inputs)\n",
    "    outputs = BatchNormalization()(outputs)\n",
    "    outputs = ConvLSTM2D(\n",
    "        filters=filter_size,\n",
    "        kernel_size=kernel_size,\n",
    "        padding=\"same\",\n",
    "        data_format=\"channels_last\",\n",
    "        return_sequences=True,\n",
    "        unit_forget_bias=True,\n",
    "        bias_initializer=bias_initializer,\n",
    "        recurrent_activation=recurrent_activation,\n",
    "        go_backwards=True,\n",
    "        recurrent_dropout=0.3,\n",
    "        stateful=False,\n",
    "    )(outputs)\n",
    "\n",
    "    outputs = BatchNormalization()(outputs)\n",
    "\n",
    "    print(\"LSTM output:\", outputs.shape)\n",
    "\n",
    "    outputs = Conv3D(\n",
    "        filters=1,\n",
    "        kernel_size=kernel_size_3D,\n",
    "        padding=\"same\",\n",
    "        kernel_initializer=kernel_initializer,\n",
    "        activation=None,\n",
    "        data_format=\"channels_last\",\n",
    "        kernel_regularizer=regularizers.l2(0.0001),\n",
    "    )(outputs)\n",
    "    print(\"CNN output:\", outputs.shape)\n",
    "\n",
    "    ## first inputs are all of the embedding layers, followed by the numeric feats\n",
    "    model = Model([inputs], outputs)\n",
    "\n",
    "    print(model.summary())\n",
    "    # plot graph\n",
    "    plot_model(model, to_file=\"network_functional_api.png\")\n",
    "\n",
    "    return model"
   ]
  },
  {
   "cell_type": "code",
   "execution_count": 34,
   "metadata": {},
   "outputs": [
    {
     "name": "stdout",
     "output_type": "stream",
     "text": [
      "LSTM output: (?, ?, 20, 17, 60)\n",
      "CNN output: (?, ?, 20, 17, 1)\n",
      "_________________________________________________________________\n",
      "Layer (type)                 Output Shape              Param #   \n",
      "=================================================================\n",
      "Input_num (InputLayer)       (None, 8, 20, 17, 33)     0         \n",
      "_________________________________________________________________\n",
      "conv_lst_m2d_1 (ConvLSTM2D)  (None, 8, 20, 17, 60)     201120    \n",
      "_________________________________________________________________\n",
      "batch_normalization_1 (Batch (None, 8, 20, 17, 60)     240       \n",
      "_________________________________________________________________\n",
      "conv_lst_m2d_2 (ConvLSTM2D)  (None, 8, 20, 17, 60)     259440    \n",
      "_________________________________________________________________\n",
      "batch_normalization_2 (Batch (None, 8, 20, 17, 60)     240       \n",
      "_________________________________________________________________\n",
      "conv3d_1 (Conv3D)            (None, 8, 20, 17, 1)      1621      \n",
      "=================================================================\n",
      "Total params: 462,661\n",
      "Trainable params: 462,421\n",
      "Non-trainable params: 240\n",
      "_________________________________________________________________\n",
      "None\n",
      "_________________________________________________________________\n",
      "Layer (type)                 Output Shape              Param #   \n",
      "=================================================================\n",
      "Input_num (InputLayer)       (None, 8, 20, 17, 33)     0         \n",
      "_________________________________________________________________\n",
      "conv_lst_m2d_1 (ConvLSTM2D)  (None, 8, 20, 17, 60)     201120    \n",
      "_________________________________________________________________\n",
      "batch_normalization_1 (Batch (None, 8, 20, 17, 60)     240       \n",
      "_________________________________________________________________\n",
      "conv_lst_m2d_2 (ConvLSTM2D)  (None, 8, 20, 17, 60)     259440    \n",
      "_________________________________________________________________\n",
      "batch_normalization_2 (Batch (None, 8, 20, 17, 60)     240       \n",
      "_________________________________________________________________\n",
      "conv3d_1 (Conv3D)            (None, 8, 20, 17, 1)      1621      \n",
      "=================================================================\n",
      "Total params: 462,661\n",
      "Trainable params: 462,421\n",
      "Non-trainable params: 240\n",
      "_________________________________________________________________\n"
     ]
    }
   ],
   "source": [
    "# for ssim choose one of the following: ssim_bce, ssim_mse, ssim_mae, ssim_mse_mae\n",
    "model = get_model(n_steps_in)\n",
    "loss = \"binary_crossentropy\"\n",
    "optimizer = Adadelta(lr=1.0, rho=0.95, epsilon=None, decay=0.0, clipnorm=1.0)\n",
    "model.compile(loss=loss, optimizer=optimizer)\n",
    "model.summary()"
   ]
  },
  {
   "cell_type": "markdown",
   "metadata": {},
   "source": [
    "# Setup training parameters"
   ]
  },
  {
   "cell_type": "code",
   "execution_count": 35,
   "metadata": {},
   "outputs": [],
   "source": [
    "# set random seed for reproducibility\n",
    "seed(42)\n",
    "set_random_seed(42)\n",
    "random.seed(42)\n",
    "\n",
    "rLR = ReduceLROnPlateau(\n",
    "    monitor=\"val_loss\",\n",
    "    factor=0.1,\n",
    "    patience=5,\n",
    "    verbose=0,\n",
    "    mode=\"auto\",\n",
    "    min_delta=0.0001,\n",
    "    cooldown=0,\n",
    "    min_lr=0,\n",
    ")"
   ]
  },
  {
   "cell_type": "code",
   "execution_count": 36,
   "metadata": {},
   "outputs": [],
   "source": [
    "# instantiate the generators for training, validation and testing\n",
    "gen_train = semitemp_generator(df_np_train, batch_size=batch_size, \n",
    "                               semitemporal_ixs=semitemporal_ixs, temporal_ixs=temporal_ixs, \n",
    "                               steps=steps)\n",
    "gen_valid = semitemp_generator(df_np_valid, batch_size=batch_size, \n",
    "                               semitemporal_ixs=semitemporal_ixs, temporal_ixs=temporal_ixs, \n",
    "                               steps=steps)\n",
    "gen_test = semitemp_generator(df_np_test, batch_size=batch_size, \n",
    "                              semitemporal_ixs=semitemporal_ixs, temporal_ixs=temporal_ixs, \n",
    "                              steps=steps)"
   ]
  },
  {
   "cell_type": "code",
   "execution_count": 37,
   "metadata": {},
   "outputs": [
    {
     "name": "stdout",
     "output_type": "stream",
     "text": [
      "steps_per_epoch:  79\n",
      "validation_steps:  12\n",
      "test_steps:  12\n"
     ]
    }
   ],
   "source": [
    "if fixed_batch_size == False:\n",
    "    steps_per_epoch = math.ceil((len(df_np_train) - (steps - 1)) / batch_size)\n",
    "    validation_steps = math.ceil((len(df_np_valid) - (steps - 1)) / batch_size)\n",
    "    test_steps = math.ceil((len(df_np_test) - (steps - 1)) / batch_size)\n",
    "else:\n",
    "    steps_per_epoch = (len(df_np_train) - (steps - 1)) // batch_size\n",
    "    validation_steps = (len(df_np_valid) - (steps - 1)) // batch_size\n",
    "    test_steps = (len(df_np_test) - (steps - 1)) // batch_size\n",
    "\n",
    "print(\"steps_per_epoch: \", steps_per_epoch)\n",
    "print(\"validation_steps: \", validation_steps)\n",
    "print(\"test_steps: \", test_steps)"
   ]
  },
  {
   "cell_type": "markdown",
   "metadata": {},
   "source": [
    "Fit the model"
   ]
  },
  {
   "cell_type": "code",
   "execution_count": 38,
   "metadata": {},
   "outputs": [
    {
     "name": "stdout",
     "output_type": "stream",
     "text": [
      "Epoch 1/100\n",
      "79/79 [==============================] - 19s 243ms/step - loss: 0.1819 - val_loss: -0.4437\n",
      "Epoch 2/100\n",
      "79/79 [==============================] - 14s 178ms/step - loss: -0.6511 - val_loss: -0.7240\n",
      "Epoch 3/100\n",
      "79/79 [==============================] - 14s 178ms/step - loss: -0.8325 - val_loss: -1.0551\n",
      "Epoch 4/100\n",
      "79/79 [==============================] - 14s 179ms/step - loss: -0.9259 - val_loss: -1.0926\n",
      "Epoch 5/100\n",
      "79/79 [==============================] - 14s 179ms/step - loss: -0.9520 - val_loss: -1.0958\n",
      "Epoch 6/100\n",
      "79/79 [==============================] - 14s 179ms/step - loss: -0.9962 - val_loss: -1.1569\n",
      "Epoch 7/100\n",
      "79/79 [==============================] - 14s 179ms/step - loss: -1.0113 - val_loss: -1.1525\n",
      "Epoch 8/100\n",
      "79/79 [==============================] - 14s 178ms/step - loss: -1.0182 - val_loss: -1.1379\n",
      "Epoch 9/100\n",
      "79/79 [==============================] - 14s 179ms/step - loss: -1.0279 - val_loss: -1.1461\n",
      "Epoch 10/100\n",
      "79/79 [==============================] - 14s 180ms/step - loss: -1.0316 - val_loss: -1.1174\n",
      "Epoch 11/100\n",
      "79/79 [==============================] - 14s 179ms/step - loss: -1.0331 - val_loss: -1.1335\n",
      "Epoch 12/100\n",
      "79/79 [==============================] - 14s 183ms/step - loss: -1.0535 - val_loss: -1.1588\n",
      "Epoch 13/100\n",
      "79/79 [==============================] - 14s 178ms/step - loss: -1.0599 - val_loss: -1.1630\n",
      "Epoch 14/100\n",
      "79/79 [==============================] - 14s 179ms/step - loss: -1.0630 - val_loss: -1.1774\n",
      "Epoch 15/100\n",
      "79/79 [==============================] - 14s 179ms/step - loss: -1.0677 - val_loss: -1.1694\n",
      "Epoch 16/100\n",
      "79/79 [==============================] - 14s 179ms/step - loss: -1.0689 - val_loss: -1.1810\n",
      "Epoch 17/100\n",
      "79/79 [==============================] - 14s 179ms/step - loss: -1.0711 - val_loss: -1.1825\n",
      "Epoch 18/100\n",
      "79/79 [==============================] - 14s 179ms/step - loss: -1.0733 - val_loss: -1.1843\n",
      "Epoch 19/100\n",
      "79/79 [==============================] - 14s 179ms/step - loss: -1.0742 - val_loss: -1.1814\n",
      "Epoch 20/100\n",
      "79/79 [==============================] - 14s 179ms/step - loss: -1.0783 - val_loss: -1.1887\n",
      "Epoch 21/100\n",
      "79/79 [==============================] - 14s 180ms/step - loss: -1.0807 - val_loss: -1.1848\n",
      "Epoch 22/100\n",
      "79/79 [==============================] - 14s 178ms/step - loss: -1.0820 - val_loss: -1.1912\n",
      "Epoch 23/100\n",
      "79/79 [==============================] - 14s 181ms/step - loss: -1.0821 - val_loss: -1.1906\n",
      "Epoch 24/100\n",
      "79/79 [==============================] - 14s 178ms/step - loss: -1.0874 - val_loss: -1.1924\n",
      "Epoch 25/100\n",
      "79/79 [==============================] - 14s 180ms/step - loss: -1.0863 - val_loss: -1.1788\n",
      "Epoch 26/100\n",
      "79/79 [==============================] - 14s 181ms/step - loss: -1.0891 - val_loss: -1.1928\n",
      "Epoch 27/100\n",
      "79/79 [==============================] - 14s 179ms/step - loss: -1.0895 - val_loss: -1.1745\n",
      "Epoch 28/100\n",
      "79/79 [==============================] - 14s 179ms/step - loss: -1.0912 - val_loss: -1.1781\n",
      "Epoch 29/100\n",
      "79/79 [==============================] - 14s 180ms/step - loss: -1.0934 - val_loss: -1.1897\n",
      "Epoch 30/100\n",
      "79/79 [==============================] - 14s 178ms/step - loss: -1.0945 - val_loss: -1.1878\n",
      "Epoch 31/100\n",
      "79/79 [==============================] - 14s 179ms/step - loss: -1.0957 - val_loss: -1.1886\n",
      "Epoch 32/100\n",
      "79/79 [==============================] - 14s 179ms/step - loss: -1.1005 - val_loss: -1.1895\n",
      "Epoch 33/100\n",
      "79/79 [==============================] - 14s 183ms/step - loss: -1.1015 - val_loss: -1.1891\n",
      "Epoch 34/100\n",
      "79/79 [==============================] - 14s 180ms/step - loss: -1.1004 - val_loss: -1.1892\n",
      "Epoch 35/100\n",
      "79/79 [==============================] - 14s 179ms/step - loss: -1.1010 - val_loss: -1.1898\n",
      "Epoch 36/100\n",
      "79/79 [==============================] - 14s 179ms/step - loss: -1.1009 - val_loss: -1.1875\n",
      "Epoch 37/100\n",
      "79/79 [==============================] - 14s 180ms/step - loss: -1.1019 - val_loss: -1.1878\n",
      "Epoch 38/100\n",
      "79/79 [==============================] - 14s 179ms/step - loss: -1.1015 - val_loss: -1.1877\n",
      "Epoch 39/100\n",
      "79/79 [==============================] - 14s 179ms/step - loss: -1.1015 - val_loss: -1.1878\n",
      "Epoch 40/100\n",
      "79/79 [==============================] - 14s 179ms/step - loss: -1.1023 - val_loss: -1.1880\n",
      "Epoch 41/100\n",
      "79/79 [==============================] - 14s 179ms/step - loss: -1.1013 - val_loss: -1.1880\n",
      "Epoch 42/100\n",
      "79/79 [==============================] - 14s 179ms/step - loss: -1.1022 - val_loss: -1.1881\n",
      "Epoch 43/100\n",
      "79/79 [==============================] - 14s 179ms/step - loss: -1.1009 - val_loss: -1.1881\n",
      "Epoch 44/100\n",
      "79/79 [==============================] - 14s 178ms/step - loss: -1.1016 - val_loss: -1.1880\n",
      "Epoch 45/100\n",
      "79/79 [==============================] - 14s 178ms/step - loss: -1.1009 - val_loss: -1.1880\n",
      "Epoch 46/100\n",
      "79/79 [==============================] - 14s 180ms/step - loss: -1.1007 - val_loss: -1.1880\n",
      "Epoch 47/100\n",
      "79/79 [==============================] - 14s 179ms/step - loss: -1.1021 - val_loss: -1.1880\n",
      "Epoch 48/100\n",
      "79/79 [==============================] - 14s 180ms/step - loss: -1.1013 - val_loss: -1.1880\n",
      "Epoch 49/100\n",
      "79/79 [==============================] - 14s 179ms/step - loss: -1.1029 - val_loss: -1.1880\n",
      "Epoch 50/100\n",
      "79/79 [==============================] - 14s 180ms/step - loss: -1.1018 - val_loss: -1.1880\n",
      "Epoch 51/100\n",
      "79/79 [==============================] - 14s 179ms/step - loss: -1.1005 - val_loss: -1.1880\n",
      "Epoch 52/100\n",
      "79/79 [==============================] - 14s 180ms/step - loss: -1.1015 - val_loss: -1.1880\n",
      "Epoch 53/100\n",
      "79/79 [==============================] - 14s 179ms/step - loss: -1.1018 - val_loss: -1.1880\n",
      "Epoch 54/100\n",
      "79/79 [==============================] - 14s 179ms/step - loss: -1.1013 - val_loss: -1.1880\n",
      "Epoch 55/100\n",
      "79/79 [==============================] - 14s 182ms/step - loss: -1.1008 - val_loss: -1.1880\n",
      "Epoch 56/100\n",
      "79/79 [==============================] - 14s 179ms/step - loss: -1.1019 - val_loss: -1.1880\n",
      "Epoch 57/100\n",
      "79/79 [==============================] - 14s 178ms/step - loss: -1.1018 - val_loss: -1.1880\n",
      "Epoch 58/100\n",
      "79/79 [==============================] - 14s 178ms/step - loss: -1.1008 - val_loss: -1.1880\n",
      "Epoch 59/100\n",
      "79/79 [==============================] - 14s 179ms/step - loss: -1.1008 - val_loss: -1.1880\n",
      "Epoch 60/100\n",
      "79/79 [==============================] - 14s 179ms/step - loss: -1.1022 - val_loss: -1.1880\n",
      "Epoch 61/100\n",
      "79/79 [==============================] - 14s 180ms/step - loss: -1.1012 - val_loss: -1.1880\n",
      "Epoch 62/100\n",
      "79/79 [==============================] - 14s 179ms/step - loss: -1.1022 - val_loss: -1.1880\n",
      "Epoch 63/100\n",
      "79/79 [==============================] - 14s 179ms/step - loss: -1.1020 - val_loss: -1.1880\n",
      "Epoch 64/100\n",
      "79/79 [==============================] - 14s 179ms/step - loss: -1.1025 - val_loss: -1.1880\n",
      "Epoch 65/100\n",
      "79/79 [==============================] - 14s 180ms/step - loss: -1.1010 - val_loss: -1.1880\n",
      "Epoch 66/100\n",
      "79/79 [==============================] - 14s 178ms/step - loss: -1.1026 - val_loss: -1.1880\n",
      "Epoch 67/100\n",
      "79/79 [==============================] - 14s 179ms/step - loss: -1.1017 - val_loss: -1.1880\n",
      "Epoch 68/100\n",
      "79/79 [==============================] - 14s 179ms/step - loss: -1.1008 - val_loss: -1.1880\n",
      "Epoch 69/100\n",
      "79/79 [==============================] - 14s 180ms/step - loss: -1.1021 - val_loss: -1.1880\n",
      "Epoch 70/100\n",
      "79/79 [==============================] - 14s 180ms/step - loss: -1.1020 - val_loss: -1.1880\n",
      "Epoch 71/100\n",
      "79/79 [==============================] - 14s 179ms/step - loss: -1.1021 - val_loss: -1.1880\n",
      "Epoch 72/100\n",
      "79/79 [==============================] - 14s 179ms/step - loss: -1.1016 - val_loss: -1.1880\n",
      "Epoch 73/100\n",
      "79/79 [==============================] - 14s 179ms/step - loss: -1.1008 - val_loss: -1.1880\n",
      "Epoch 74/100\n",
      "79/79 [==============================] - 14s 178ms/step - loss: -1.1022 - val_loss: -1.1880\n",
      "Epoch 75/100\n",
      "79/79 [==============================] - 14s 179ms/step - loss: -1.1014 - val_loss: -1.1880\n",
      "Epoch 76/100\n",
      "79/79 [==============================] - 14s 182ms/step - loss: -1.1017 - val_loss: -1.1880\n",
      "Epoch 77/100\n",
      "79/79 [==============================] - 14s 179ms/step - loss: -1.1016 - val_loss: -1.1880\n",
      "Epoch 78/100\n",
      "79/79 [==============================] - 14s 179ms/step - loss: -1.1017 - val_loss: -1.1880\n",
      "Epoch 79/100\n",
      "79/79 [==============================] - 14s 179ms/step - loss: -1.1021 - val_loss: -1.1880\n",
      "Epoch 80/100\n",
      "79/79 [==============================] - 14s 180ms/step - loss: -1.1024 - val_loss: -1.1880\n",
      "Epoch 81/100\n",
      "30/79 [==========>...................] - ETA: 8s - loss: -1.0189"
     ]
    }
   ],
   "source": [
    "H = model.fit_generator(\n",
    "    generator=gen_train,\n",
    "    steps_per_epoch=steps_per_epoch,\n",
    "    epochs=n_epochs,\n",
    "    validation_data=gen_valid,\n",
    "    validation_steps=validation_steps,\n",
    "    callbacks=[rLR],\n",
    ")"
   ]
  },
  {
   "cell_type": "code",
   "execution_count": 39,
   "metadata": {},
   "outputs": [
    {
     "data": {
      "image/png": "[encoded data removed]",
      "text/plain": [
       "<Figure size 432x288 with 1 Axes>"
      ]
     },
     "metadata": {
      "needs_background": "light"
     },
     "output_type": "display_data"
    }
   ],
   "source": [
    "history = model.history\n",
    "plot_history(history, title=\"BCE Loss\")"
   ]
  },
  {
   "cell_type": "code",
   "execution_count": 41,
   "metadata": {},
   "outputs": [],
   "source": [
    "with open(\"history_dict.pickle\", \"wb\") as pkl:\n",
    "    pickle.dump(history.history, pkl, protocol=pickle.HIGHEST_PROTOCOL)"
   ]
  },
  {
   "cell_type": "markdown",
   "metadata": {},
   "source": [
    "# Make Prediction"
   ]
  },
  {
   "cell_type": "code",
   "execution_count": 42,
   "metadata": {},
   "outputs": [
    {
     "data": {
      "text/plain": [
       "(721, 8, 20, 17, 1)"
      ]
     },
     "execution_count": 42,
     "metadata": {},
     "output_type": "execute_result"
    }
   ],
   "source": [
    "fire_pred = model.predict_generator(generator=gen_test, steps=test_steps)\n",
    "fire_pred.shape"
   ]
  },
  {
   "cell_type": "markdown",
   "metadata": {},
   "source": [
    "# Inverse transform test data and prediction"
   ]
  },
  {
   "cell_type": "code",
   "execution_count": 43,
   "metadata": {},
   "outputs": [
    {
     "name": "stdout",
     "output_type": "stream",
     "text": [
      "fire_pred shape:  (721, 8, 20, 17)\n",
      "fire_real shape:  (728, 20, 17)\n"
     ]
    }
   ],
   "source": [
    "# inverse transform prediction_data and test_data to original range\n",
    "# drop unecessary dimensions for easier handling\n",
    "fire_pred = scaler_label.inverse_transform(fire_pred)\n",
    "fire_pred = fire_pred.squeeze()\n",
    "fire_real = scaler_label.inverse_transform(df_np_test[:, :, :, -1])\n",
    "print(\"fire_pred shape: \", fire_pred.shape)\n",
    "print(\"fire_real shape: \", fire_real.shape)"
   ]
  },
  {
   "cell_type": "markdown",
   "metadata": {},
   "source": [
    "# Make fire/non-fire separation"
   ]
  },
  {
   "cell_type": "code",
   "execution_count": 44,
   "metadata": {},
   "outputs": [],
   "source": [
    "# make matrices where 1 is fire existence, zero is none existence\n",
    "fire_count_threshold = 0\n",
    "fire_pred_exist = (fire_pred > 0).astype(int)\n",
    "fire_real_exist = (fire_real > 0).astype(int)"
   ]
  },
  {
   "cell_type": "code",
   "execution_count": 45,
   "metadata": {},
   "outputs": [],
   "source": [
    "# convert the real data to the same shape as forecast for easier usage\n",
    "# make a container with the shape of the forecasted data (which has steps, but observation doesnt)\n",
    "extended_fire_real_exist = np.zeros_like(fire_pred_exist)\n",
    "extended_fire_real = np.zeros_like(fire_pred)"
   ]
  },
  {
   "cell_type": "code",
   "execution_count": 46,
   "metadata": {},
   "outputs": [],
   "source": [
    "# convert the observed fire to the same dims as prediction with steps calculated from a given starting time\n",
    "for start_time in range(len(extended_fire_real_exist)):\n",
    "    for i in range(steps):\n",
    "        extended_fire_real_exist[start_time, i, :, :] = fire_real_exist[\n",
    "            start_time + i, :, :\n",
    "        ]\n",
    "        extended_fire_real[start_time, i, :, :] = fire_real[start_time + i, :, :]"
   ]
  },
  {
   "cell_type": "code",
   "execution_count": 47,
   "metadata": {},
   "outputs": [
    {
     "name": "stdout",
     "output_type": "stream",
     "text": [
      "(721, 8, 20, 17)\n",
      "(721, 8, 20, 17)\n"
     ]
    }
   ],
   "source": [
    "print(extended_fire_real.shape)\n",
    "print(fire_pred.shape)"
   ]
  },
  {
   "cell_type": "markdown",
   "metadata": {},
   "source": [
    "# Plot some examples"
   ]
  },
  {
   "cell_type": "code",
   "execution_count": 48,
   "metadata": {},
   "outputs": [],
   "source": [
    "def plot_fires_from(start_step, steps=[0, 1], figsize=(10, 8), vmin=0, vmax=1):\n",
    "    \"\"\"\n",
    "    From the starting step of the numpy arrays first dim (which is time) plots\n",
    "    figures for every step of the forecast determined in the steps list.\n",
    "    \"\"\"\n",
    "    f, axarr = plt.subplots(4, len(steps), figsize=figsize)\n",
    "    for i, st in enumerate(steps):\n",
    "        axarr[0, i].imshow(\n",
    "            fire_pred[start_step, i, :, :], origin=\"lower\", cmap=\"nipy_spectral\"\n",
    "        )\n",
    "        axarr[0, i].set_title(\"Pr full {}\".format(st))\n",
    "        axarr[1, i].imshow(\n",
    "            fire_pred[start_step, i, :, :],\n",
    "            origin=\"lower\",\n",
    "            vmin=vmin,\n",
    "            vmax=vmax,\n",
    "            cmap=\"nipy_spectral\",\n",
    "        )\n",
    "        axarr[1, i].set_title(\"Pr thres {}\".format(st))\n",
    "        axarr[2, i].imshow(\n",
    "            fire_pred_exist[start_step, i, :, :],\n",
    "            origin=\"lower\",\n",
    "            vmin=vmin,\n",
    "            vmax=vmax,\n",
    "            cmap=\"nipy_spectral\",\n",
    "        )\n",
    "        axarr[2, i].set_title(\"Pr exst {}\".format(st))\n",
    "        axarr[3, i].imshow(\n",
    "            extended_fire_real[start_step, i, :, :],\n",
    "            origin=\"lower\",\n",
    "            vmin=vmin,\n",
    "            vmax=vmax,\n",
    "            cmap=\"nipy_spectral\",\n",
    "        )\n",
    "        axarr[3, i].set_title(\"Act {}\".format(st))"
   ]
  },
  {
   "cell_type": "code",
   "execution_count": 49,
   "metadata": {},
   "outputs": [
    {
     "data": {
      "image/png": "[encoded data removed]",
      "text/plain": [
       "<Figure size 1224x864 with 32 Axes>"
      ]
     },
     "metadata": {
      "needs_background": "light"
     },
     "output_type": "display_data"
    }
   ],
   "source": [
    "# as we have only 4 steps now I want to show every steps, so in steps=[] we\n",
    "# determine the steps to show\n",
    "# lets see from the 50th day of the year (we are on 12h steps, so 2*)\n",
    "plot_fires_from(50, steps=[0, 1, 2, 3, 4, 5, 6, 7], figsize=(17, 12))"
   ]
  },
  {
   "cell_type": "markdown",
   "metadata": {},
   "source": [
    "# Calculate the scores"
   ]
  },
  {
   "cell_type": "markdown",
   "metadata": {},
   "source": [
    "## Full forecast period scores"
   ]
  },
  {
   "cell_type": "code",
   "execution_count": 50,
   "metadata": {},
   "outputs": [
    {
     "data": {
      "text/plain": [
       "array([[1888717,   31055],\n",
       "       [  15223,   26125]])"
      ]
     },
     "execution_count": 50,
     "metadata": {},
     "output_type": "execute_result"
    }
   ],
   "source": [
    "confusion_matrix(\n",
    "    fire_pred_exist[:, :, :, :].flatten(),\n",
    "    extended_fire_real_exist[:, :, :, :].flatten(),\n",
    ")"
   ]
  },
  {
   "cell_type": "code",
   "execution_count": 51,
   "metadata": {},
   "outputs": [
    {
     "data": {
      "text/plain": [
       "(array([0.99415128, 0.74876272]),\n",
       " array([0.9924763 , 0.79340029]),\n",
       " array([0.99331308, 0.77043549]),\n",
       " array([715207,  20213]))"
      ]
     },
     "execution_count": 51,
     "metadata": {},
     "output_type": "execute_result"
    }
   ],
   "source": [
    "precision_recall_fscore_support(\n",
    "    fire_pred_exist[:, 0:3, :, :].flatten(),\n",
    "    extended_fire_real_exist[:, 0:3, :, :].flatten(),\n",
    ")"
   ]
  },
  {
   "cell_type": "markdown",
   "metadata": {},
   "source": [
    "## Last step score\n",
    "During the forecast period we would like to forecast the changes of the fires. The first steps arent so important, as they are colse, and can be very stationary. The most important steps in real time are the later steps. Here we calculate the scores only for the last step of the forecast."
   ]
  },
  {
   "cell_type": "code",
   "execution_count": 52,
   "metadata": {},
   "outputs": [
    {
     "data": {
      "text/plain": [
       "array([[236376,   5687],\n",
       "       [  1608,   1469]])"
      ]
     },
     "execution_count": 52,
     "metadata": {},
     "output_type": "execute_result"
    }
   ],
   "source": [
    "confusion_matrix(\n",
    "    fire_pred_exist[:, -1, :, :].flatten(),\n",
    "    extended_fire_real_exist[:, -1, :, :].flatten(),\n",
    ")"
   ]
  },
  {
   "cell_type": "code",
   "execution_count": 53,
   "metadata": {},
   "outputs": [
    {
     "data": {
      "text/plain": [
       "(array([0.99324324, 0.20528228]),\n",
       " array([0.97650612, 0.47741306]),\n",
       " array([0.98480357, 0.28711033]),\n",
       " array([242063,   3077]))"
      ]
     },
     "execution_count": 53,
     "metadata": {},
     "output_type": "execute_result"
    }
   ],
   "source": [
    "precision_recall_fscore_support(\n",
    "    fire_pred_exist[:, -1, :, :].flatten(),\n",
    "    extended_fire_real_exist[:, -1, :, :].flatten(),\n",
    ")"
   ]
  },
  {
   "cell_type": "markdown",
   "metadata": {},
   "source": [
    "# Prepare the validaiton predictions"
   ]
  },
  {
   "cell_type": "code",
   "execution_count": 54,
   "metadata": {},
   "outputs": [],
   "source": [
    "fire_pred = model.predict_generator(generator=gen_valid, steps=validation_steps)\n",
    "fire_pred = scaler_label.inverse_transform(fire_pred)\n",
    "fire_pred = fire_pred.squeeze()\n",
    "fire_pred_exist = (fire_pred > 0).astype(int)\n",
    "\n",
    "with open(\"fire_pred_exist.pickle\", \"wb\") as pkl:\n",
    "    pickle.dump(fire_pred_exist, pkl, protocol=pickle.HIGHEST_PROTOCOL)"
   ]
  },
  {
   "cell_type": "code",
   "execution_count": 55,
   "metadata": {},
   "outputs": [
    {
     "data": {
      "text/plain": [
       "(723, 8, 20, 17)"
      ]
     },
     "execution_count": 55,
     "metadata": {},
     "output_type": "execute_result"
    }
   ],
   "source": [
    "fire_pred.shape"
   ]
  },
  {
   "cell_type": "code",
   "execution_count": 56,
   "metadata": {},
   "outputs": [],
   "source": [
    "fire_count = []\n",
    "for i in range(len(fire_pred)):\n",
    "    fire_count.append(fire_pred_exist[i, :, :, :].sum())"
   ]
  },
  {
   "cell_type": "code",
   "execution_count": 57,
   "metadata": {},
   "outputs": [
    {
     "name": "stdout",
     "output_type": "stream",
     "text": [
      "626\n"
     ]
    }
   ],
   "source": [
    "# pick single prediction start timestamp\n",
    "pred_idx = np.argmax(fire_count)\n",
    "print(pred_idx)\n",
    "valid_prediction = fire_pred_exist[pred_idx, :, :, :]"
   ]
  },
  {
   "cell_type": "code",
   "execution_count": 58,
   "metadata": {},
   "outputs": [
    {
     "data": {
      "text/plain": [
       "((248200, 33), (730, 20, 17, 33), (8, 20, 17))"
      ]
     },
     "execution_count": 58,
     "metadata": {},
     "output_type": "execute_result"
    }
   ],
   "source": [
    "df_valid.shape, df_np_valid.shape, valid_prediction.shape"
   ]
  },
  {
   "cell_type": "code",
   "execution_count": 59,
   "metadata": {},
   "outputs": [
    {
     "name": "stdout",
     "output_type": "stream",
     "text": [
      "2017-11-13 12:00:00\n",
      "['2017-11-13T12:00:00.000000000' '2017-11-14T00:00:00.000000000'\n",
      " '2017-11-14T12:00:00.000000000' '2017-11-15T00:00:00.000000000'\n",
      " '2017-11-15T12:00:00.000000000' '2017-11-16T00:00:00.000000000'\n",
      " '2017-11-16T12:00:00.000000000' '2017-11-17T00:00:00.000000000']\n"
     ]
    }
   ],
   "source": [
    "time_zero = df_valid.reset_index().timestamp.unique()[pred_idx + 7]\n",
    "print(time_zero)\n",
    "\n",
    "dt = datetime.datetime.strptime(time_zero, \"%Y-%m-%d %H:%M:%S\")\n",
    "step = datetime.timedelta(hours=12)\n",
    "dates = [(dt + i * step) for i in range(valid_prediction.shape[0])]\n",
    "\n",
    "lat = [\n",
    "    32.5,\n",
    "    33.0,\n",
    "    33.5,\n",
    "    34.0,\n",
    "    34.5,\n",
    "    35.0,\n",
    "    35.5,\n",
    "    36.0,\n",
    "    36.5,\n",
    "    37.0,\n",
    "    37.5,\n",
    "    38.0,\n",
    "    38.5,\n",
    "    39.0,\n",
    "    39.5,\n",
    "    40.0,\n",
    "    40.5,\n",
    "    41.0,\n",
    "    41.5,\n",
    "    42.0,\n",
    "]\n",
    "lon = [\n",
    "    -123.75,\n",
    "    -123.125,\n",
    "    -122.5,\n",
    "    -121.875,\n",
    "    -121.25,\n",
    "    -120.625,\n",
    "    -120.0,\n",
    "    -119.375,\n",
    "    -118.75,\n",
    "    -118.125,\n",
    "    -117.5,\n",
    "    -116.875,\n",
    "    -116.25,\n",
    "    -115.625,\n",
    "    -115.0,\n",
    "    -114.375,\n",
    "    -113.75,\n",
    "]\n",
    "\n",
    "iterables = [dates, lat, lon]\n",
    "index = pd.MultiIndex.from_product(iterables, names=[\"time\", \"lat\", \"lon\"])\n",
    "\n",
    "valid_prediction_df = pd.DataFrame(valid_prediction.flatten(), index=index)\n",
    "valid_prediction_df.reset_index(inplace=True)\n",
    "\n",
    "valid_prediction_df = valid_prediction_df.rename(columns={0: \"fire_count\"})\n",
    "\n",
    "print(valid_prediction_df[\"time\"].unique())"
   ]
  },
  {
   "cell_type": "code",
   "execution_count": 60,
   "metadata": {},
   "outputs": [
    {
     "data": {
      "text/plain": [
       "172"
      ]
     },
     "execution_count": 60,
     "metadata": {},
     "output_type": "execute_result"
    }
   ],
   "source": [
    "valid_prediction_df.fire_count.sum()"
   ]
  },
  {
   "cell_type": "code",
   "execution_count": 61,
   "metadata": {},
   "outputs": [
    {
     "name": "stdout",
     "output_type": "stream",
     "text": [
      "172\n",
      "71\n"
     ]
    }
   ],
   "source": [
    "print(valid_prediction_df.fire_count.sum())\n",
    "valid_sample = scaler_label.inverse_transform(\n",
    "    df_np_valid[pred_idx : pred_idx + 7, :, :, -1]\n",
    ")\n",
    "valid_sample = (valid_sample > 0).astype(int)\n",
    "print(valid_sample.sum())"
   ]
  },
  {
   "cell_type": "code",
   "execution_count": 62,
   "metadata": {},
   "outputs": [],
   "source": [
    "valid_prediction_df.to_csv(\n",
    "    \"valid_prediction_{}.csv\".format(time_zero[:10]), index=False\n",
    ")"
   ]
  }
 ],
 "metadata": {
  "kernelspec": {
   "display_name": "Python 3",
   "language": "python",
   "name": "python3"
  },
  "language_info": {
   "codemirror_mode": {
    "name": "ipython",
    "version": 3
   },
   "file_extension": ".py",
   "mimetype": "text/x-python",
   "name": "python",
   "nbconvert_exporter": "python",
   "pygments_lexer": "ipython3",
   "version": "3.7.3"
  }
 },
 "nbformat": 4,
 "nbformat_minor": 1
}
