{
 "cells": [
  {
   "cell_type": "code",
   "execution_count": 1,
   "metadata": {
    "_cell_guid": "b1076dfc-b9ad-4769-8c92-a6c4dae69d19",
    "_uuid": "8f2839f25d086af736a60e9eeb907d3b93b6e0e5"
   },
   "outputs": [
    {
     "name": "stdout",
     "output_type": "stream",
     "text": [
      "['ibm-fire-no-fire-feature-best-map', 'ibm-fire-dataset-builder-3-6-hr', 'ibm-fire-no-fire-feature-and-threshold-optim']\n"
     ]
    }
   ],
   "source": [
    "import numpy as np  # linear algebra\n",
    "import pandas as pd  # data processing, CSV file I/O (e.g. pd.read_csv)\n",
    "import pickle\n",
    "import datetime\n",
    "from sklearn.preprocessing import StandardScaler\n",
    "import matplotlib.pyplot as plt\n",
    "import seaborn as sns\n",
    "\n",
    "\n",
    "import os\n",
    "\n",
    "print(os.listdir(\"../input\"))"
   ]
  },
  {
   "cell_type": "markdown",
   "metadata": {},
   "source": [
    "### Unfortunatelly this dataset was saved without inverse scaling, so have to make the same scaller from the original data"
   ]
  },
  {
   "cell_type": "code",
   "execution_count": 2,
   "metadata": {},
   "outputs": [
    {
     "name": "stderr",
     "output_type": "stream",
     "text": [
      "/opt/conda/lib/python3.6/site-packages/numpy/lib/arraysetops.py:569: FutureWarning: elementwise comparison failed; returning scalar instead, but in the future will perform elementwise comparison\n",
      "  mask |= (ar1 == a)\n"
     ]
    },
    {
     "data": {
      "text/plain": [
       "(2233460, 2)"
      ]
     },
     "execution_count": 2,
     "metadata": {},
     "output_type": "execute_result"
    }
   ],
   "source": [
    "df_d = pd.read_csv(\n",
    "    \"../input/ibm-fire-dataset-builder-3-6-hr/basegrid_12h.csv\",\n",
    "    index_col=[\"timestamp\", \"lat\", \"lon\"],\n",
    "    usecols=[\"timestamp\", \"lat\", \"lon\", \"PRECTOT\", \"fire_count\"],\n",
    ")\n",
    "df_d.shape"
   ]
  },
  {
   "cell_type": "code",
   "execution_count": 3,
   "metadata": {},
   "outputs": [
    {
     "data": {
      "text/plain": [
       "count    2.233460e+06\n",
       "mean    -9.392149e-01\n",
       "std      7.881471e-01\n",
       "min     -1.000000e+00\n",
       "25%     -1.000000e+00\n",
       "50%     -1.000000e+00\n",
       "75%     -1.000000e+00\n",
       "max      1.670000e+02\n",
       "Name: fire_count, dtype: float64"
      ]
     },
     "execution_count": 3,
     "metadata": {},
     "output_type": "execute_result"
    }
   ],
   "source": [
    "df_d[\"fire_count\"] = df_d[\"fire_count\"].replace(-20, -1)\n",
    "df_d[\"fire_count\"].describe()"
   ]
  },
  {
   "cell_type": "code",
   "execution_count": 4,
   "metadata": {},
   "outputs": [
    {
     "data": {
      "text/plain": [
       "StandardScaler(copy=True, with_mean=True, with_std=True)"
      ]
     },
     "execution_count": 4,
     "metadata": {},
     "output_type": "execute_result"
    }
   ],
   "source": [
    "scaler_label = StandardScaler()\n",
    "# only fit, we don't want to transform here\n",
    "scaler_label.fit(df_d.loc[:, df_d.columns == \"fire_count\"])"
   ]
  },
  {
   "cell_type": "code",
   "execution_count": 5,
   "metadata": {},
   "outputs": [
    {
     "data": {
      "text/plain": [
       "count    2.233460e+06\n",
       "mean    -9.392149e-01\n",
       "std      7.881471e-01\n",
       "min     -1.000000e+00\n",
       "25%     -1.000000e+00\n",
       "50%     -1.000000e+00\n",
       "75%     -1.000000e+00\n",
       "max      1.670000e+02\n",
       "Name: fire_count, dtype: float64"
      ]
     },
     "execution_count": 5,
     "metadata": {},
     "output_type": "execute_result"
    }
   ],
   "source": [
    "# ok, this is the transform in the original kernel\n",
    "df_d[\"fire_count\"].describe()"
   ]
  },
  {
   "cell_type": "markdown",
   "metadata": {},
   "source": [
    "### Read the fire potential dataset and convert to pandas"
   ]
  },
  {
   "cell_type": "code",
   "execution_count": 6,
   "metadata": {},
   "outputs": [],
   "source": [
    "file = \"../input/ibm-fire-no-fire-feature-best-map/start_2010-02-01_00h_step_12h.pickle_commit5\"\n",
    "\n",
    "with open(file, mode=\"rb\") as file:\n",
    "    pred = pickle.load(file)"
   ]
  },
  {
   "cell_type": "code",
   "execution_count": 7,
   "metadata": {},
   "outputs": [
    {
     "data": {
      "text/plain": [
       "(6510, 20, 17)"
      ]
     },
     "execution_count": 7,
     "metadata": {},
     "output_type": "execute_result"
    }
   ],
   "source": [
    "pred.shape"
   ]
  },
  {
   "cell_type": "code",
   "execution_count": 8,
   "metadata": {},
   "outputs": [
    {
     "data": {
      "text/plain": [
       "(6510, 20, 17)"
      ]
     },
     "execution_count": 8,
     "metadata": {},
     "output_type": "execute_result"
    }
   ],
   "source": [
    "# inverse transform pred\n",
    "# drop unecessary dimensions for easier handling\n",
    "pred = scaler_label.inverse_transform(pred)\n",
    "pred = pred.squeeze()\n",
    "pred.shape"
   ]
  },
  {
   "cell_type": "code",
   "execution_count": 9,
   "metadata": {},
   "outputs": [],
   "source": [
    "lat = [\n",
    "    32.5,\n",
    "    33.0,\n",
    "    33.5,\n",
    "    34.0,\n",
    "    34.5,\n",
    "    35.0,\n",
    "    35.5,\n",
    "    36.0,\n",
    "    36.5,\n",
    "    37.0,\n",
    "    37.5,\n",
    "    38.0,\n",
    "    38.5,\n",
    "    39.0,\n",
    "    39.5,\n",
    "    40.0,\n",
    "    40.5,\n",
    "    41.0,\n",
    "    41.5,\n",
    "    42.0,\n",
    "]\n",
    "lon = [\n",
    "    -123.75,\n",
    "    -123.125,\n",
    "    -122.5,\n",
    "    -121.875,\n",
    "    -121.25,\n",
    "    -120.625,\n",
    "    -120.0,\n",
    "    -119.375,\n",
    "    -118.75,\n",
    "    -118.125,\n",
    "    -117.5,\n",
    "    -116.875,\n",
    "    -116.25,\n",
    "    -115.625,\n",
    "    -115.0,\n",
    "    -114.375,\n",
    "    -113.75,\n",
    "]\n",
    "time_zero = \"2010-02-01 00:00:00\"\n",
    "step_h = 12"
   ]
  },
  {
   "cell_type": "code",
   "execution_count": 10,
   "metadata": {},
   "outputs": [],
   "source": [
    "dt = datetime.datetime.strptime(time_zero, \"%Y-%m-%d %H:%M:%S\")\n",
    "step = datetime.timedelta(hours=12)"
   ]
  },
  {
   "cell_type": "code",
   "execution_count": 11,
   "metadata": {},
   "outputs": [],
   "source": [
    "dates = [(dt + i * step) for i in range(pred.shape[0])]"
   ]
  },
  {
   "cell_type": "code",
   "execution_count": 12,
   "metadata": {},
   "outputs": [],
   "source": [
    "iterables = [dates, lat, lon]\n",
    "index = pd.MultiIndex.from_product(iterables, names=[\"time\", \"lat\", \"lon\"])"
   ]
  },
  {
   "cell_type": "code",
   "execution_count": 14,
   "metadata": {},
   "outputs": [],
   "source": [
    "df = pd.DataFrame(pred.flatten(), index=index)"
   ]
  },
  {
   "cell_type": "code",
   "execution_count": 15,
   "metadata": {},
   "outputs": [],
   "source": [
    "df.reset_index(inplace=True)"
   ]
  },
  {
   "cell_type": "code",
   "execution_count": 16,
   "metadata": {},
   "outputs": [],
   "source": [
    "df = df.rename(columns={0: \"fire_potential\"})"
   ]
  },
  {
   "cell_type": "code",
   "execution_count": 17,
   "metadata": {},
   "outputs": [
    {
     "data": {
      "text/html": [
       "<div>\n",
       "<style scoped>\n",
       "    .dataframe tbody tr th:only-of-type {\n",
       "        vertical-align: middle;\n",
       "    }\n",
       "\n",
       "    .dataframe tbody tr th {\n",
       "        vertical-align: top;\n",
       "    }\n",
       "\n",
       "    .dataframe thead th {\n",
       "        text-align: right;\n",
       "    }\n",
       "</style>\n",
       "<table border=\"1\" class=\"dataframe\">\n",
       "  <thead>\n",
       "    <tr style=\"text-align: right;\">\n",
       "      <th></th>\n",
       "      <th>time</th>\n",
       "      <th>lat</th>\n",
       "      <th>lon</th>\n",
       "      <th>fire_potential</th>\n",
       "    </tr>\n",
       "  </thead>\n",
       "  <tbody>\n",
       "    <tr>\n",
       "      <th>0</th>\n",
       "      <td>2010-02-01</td>\n",
       "      <td>32.5</td>\n",
       "      <td>-123.750</td>\n",
       "      <td>-0.971379</td>\n",
       "    </tr>\n",
       "    <tr>\n",
       "      <th>1</th>\n",
       "      <td>2010-02-01</td>\n",
       "      <td>32.5</td>\n",
       "      <td>-123.125</td>\n",
       "      <td>-0.992738</td>\n",
       "    </tr>\n",
       "    <tr>\n",
       "      <th>2</th>\n",
       "      <td>2010-02-01</td>\n",
       "      <td>32.5</td>\n",
       "      <td>-122.500</td>\n",
       "      <td>-0.999096</td>\n",
       "    </tr>\n",
       "    <tr>\n",
       "      <th>3</th>\n",
       "      <td>2010-02-01</td>\n",
       "      <td>32.5</td>\n",
       "      <td>-121.875</td>\n",
       "      <td>-0.976892</td>\n",
       "    </tr>\n",
       "    <tr>\n",
       "      <th>4</th>\n",
       "      <td>2010-02-01</td>\n",
       "      <td>32.5</td>\n",
       "      <td>-121.250</td>\n",
       "      <td>-1.022281</td>\n",
       "    </tr>\n",
       "  </tbody>\n",
       "</table>\n",
       "</div>"
      ],
      "text/plain": [
       "        time   lat      lon  fire_potential\n",
       "0 2010-02-01  32.5 -123.750       -0.971379\n",
       "1 2010-02-01  32.5 -123.125       -0.992738\n",
       "2 2010-02-01  32.5 -122.500       -0.999096\n",
       "3 2010-02-01  32.5 -121.875       -0.976892\n",
       "4 2010-02-01  32.5 -121.250       -1.022281"
      ]
     },
     "execution_count": 17,
     "metadata": {},
     "output_type": "execute_result"
    }
   ],
   "source": [
    "df.head()"
   ]
  },
  {
   "cell_type": "code",
   "execution_count": 18,
   "metadata": {},
   "outputs": [
    {
     "data": {
      "text/plain": [
       "<matplotlib.axes._subplots.AxesSubplot at 0x7f4b70d54710>"
      ]
     },
     "execution_count": 18,
     "metadata": {},
     "output_type": "execute_result"
    },
    {
     "data": {
      "image/png": "[encoded data removed]",
      "text/plain": [
       "<Figure size 432x288 with 1 Axes>"
      ]
     },
     "metadata": {
      "needs_background": "light"
     },
     "output_type": "display_data"
    }
   ],
   "source": [
    "# ok, this is the required distribution\n",
    "df[\"fire_potential\"].hist()"
   ]
  },
  {
   "cell_type": "code",
   "execution_count": 19,
   "metadata": {},
   "outputs": [],
   "source": [
    "# from the resource kernel\n",
    "best_threshold = -0.8852528393268586"
   ]
  },
  {
   "cell_type": "code",
   "execution_count": 20,
   "metadata": {},
   "outputs": [
    {
     "data": {
      "text/plain": [
       "(2213400, 4)"
      ]
     },
     "execution_count": 20,
     "metadata": {},
     "output_type": "execute_result"
    }
   ],
   "source": [
    "df.shape"
   ]
  },
  {
   "cell_type": "code",
   "execution_count": 21,
   "metadata": {},
   "outputs": [
    {
     "data": {
      "text/plain": [
       "(197120, 4)"
      ]
     },
     "execution_count": 21,
     "metadata": {},
     "output_type": "execute_result"
    }
   ],
   "source": [
    "df[df[\"fire_potential\"] > best_threshold].shape"
   ]
  },
  {
   "cell_type": "code",
   "execution_count": 22,
   "metadata": {},
   "outputs": [
    {
     "data": {
      "text/plain": [
       "-0.5760710656642917"
      ]
     },
     "execution_count": 22,
     "metadata": {},
     "output_type": "execute_result"
    }
   ],
   "source": [
    "# the threshold for the upper 90 percent of fiery cells, good for\n",
    "max_color = df[df[\"fire_potential\"] > best_threshold][\"fire_potential\"].quantile(0.95)\n",
    "max_color"
   ]
  },
  {
   "cell_type": "code",
   "execution_count": 23,
   "metadata": {},
   "outputs": [
    {
     "data": {
      "text/html": [
       "<div>\n",
       "<style scoped>\n",
       "    .dataframe tbody tr th:only-of-type {\n",
       "        vertical-align: middle;\n",
       "    }\n",
       "\n",
       "    .dataframe tbody tr th {\n",
       "        vertical-align: top;\n",
       "    }\n",
       "\n",
       "    .dataframe thead th {\n",
       "        text-align: right;\n",
       "    }\n",
       "</style>\n",
       "<table border=\"1\" class=\"dataframe\">\n",
       "  <thead>\n",
       "    <tr style=\"text-align: right;\">\n",
       "      <th></th>\n",
       "      <th>time</th>\n",
       "      <th>lat</th>\n",
       "      <th>lon</th>\n",
       "      <th>fire_potential</th>\n",
       "    </tr>\n",
       "  </thead>\n",
       "  <tbody>\n",
       "    <tr>\n",
       "      <th>0</th>\n",
       "      <td>2010-02-01</td>\n",
       "      <td>32.5</td>\n",
       "      <td>-123.750</td>\n",
       "      <td>-0.971379</td>\n",
       "    </tr>\n",
       "    <tr>\n",
       "      <th>1</th>\n",
       "      <td>2010-02-01</td>\n",
       "      <td>32.5</td>\n",
       "      <td>-123.125</td>\n",
       "      <td>-0.992738</td>\n",
       "    </tr>\n",
       "    <tr>\n",
       "      <th>2</th>\n",
       "      <td>2010-02-01</td>\n",
       "      <td>32.5</td>\n",
       "      <td>-122.500</td>\n",
       "      <td>-0.999096</td>\n",
       "    </tr>\n",
       "    <tr>\n",
       "      <th>3</th>\n",
       "      <td>2010-02-01</td>\n",
       "      <td>32.5</td>\n",
       "      <td>-121.875</td>\n",
       "      <td>-0.976892</td>\n",
       "    </tr>\n",
       "    <tr>\n",
       "      <th>4</th>\n",
       "      <td>2010-02-01</td>\n",
       "      <td>32.5</td>\n",
       "      <td>-121.250</td>\n",
       "      <td>-1.022281</td>\n",
       "    </tr>\n",
       "  </tbody>\n",
       "</table>\n",
       "</div>"
      ],
      "text/plain": [
       "        time   lat      lon  fire_potential\n",
       "0 2010-02-01  32.5 -123.750       -0.971379\n",
       "1 2010-02-01  32.5 -123.125       -0.992738\n",
       "2 2010-02-01  32.5 -122.500       -0.999096\n",
       "3 2010-02-01  32.5 -121.875       -0.976892\n",
       "4 2010-02-01  32.5 -121.250       -1.022281"
      ]
     },
     "execution_count": 23,
     "metadata": {},
     "output_type": "execute_result"
    }
   ],
   "source": [
    "df.head()"
   ]
  },
  {
   "cell_type": "code",
   "execution_count": 24,
   "metadata": {},
   "outputs": [
    {
     "data": {
      "text/plain": [
       "count    2.213400e+06\n",
       "mean    -9.726274e-01\n",
       "std      8.471677e-02\n",
       "min     -1.253478e+00\n",
       "25%     -1.007995e+00\n",
       "50%     -9.876888e-01\n",
       "75%     -9.630947e-01\n",
       "max      7.473089e-01\n",
       "Name: fire_potential, dtype: float64"
      ]
     },
     "execution_count": 24,
     "metadata": {},
     "output_type": "execute_result"
    }
   ],
   "source": [
    "df[\"fire_potential\"].describe()"
   ]
  },
  {
   "cell_type": "code",
   "execution_count": 25,
   "metadata": {},
   "outputs": [],
   "source": [
    "df.to_csv(\n",
    "    \"start_2010-02-01_00h_step_12h_pred_noinputfire_th_min08853_colormax_min06308.csv\",\n",
    "    index=False,\n",
    ")"
   ]
  },
  {
   "cell_type": "code",
   "execution_count": 26,
   "metadata": {},
   "outputs": [],
   "source": [
    "# shift fire_potential scale in order to use negative numbers as non-fire, and positive as fire\n",
    "df[\"fire_potential\"] = df[\"fire_potential\"] - best_threshold"
   ]
  },
  {
   "cell_type": "code",
   "execution_count": 27,
   "metadata": {},
   "outputs": [
    {
     "data": {
      "text/plain": [
       "0.309181773662567"
      ]
     },
     "execution_count": 27,
     "metadata": {},
     "output_type": "execute_result"
    }
   ],
   "source": [
    "# as fires are above zero we search the upper 0.9 percentile to use as the top fiery limit\n",
    "upper_limit = df[df[\"fire_potential\"] > 0][\"fire_potential\"].quantile(0.95)\n",
    "upper_limit"
   ]
  },
  {
   "cell_type": "code",
   "execution_count": 28,
   "metadata": {},
   "outputs": [
    {
     "data": {
      "text/plain": [
       "25.87474644844684"
      ]
     },
     "execution_count": 28,
     "metadata": {},
     "output_type": "execute_result"
    }
   ],
   "source": [
    "# 8 is the max of Rachel's colorbar\n",
    "multiplier = 8 / upper_limit\n",
    "multiplier"
   ]
  },
  {
   "cell_type": "code",
   "execution_count": 29,
   "metadata": {},
   "outputs": [],
   "source": [
    "# scale up to Rachel's colorbar\n",
    "df[\"fire_potential\"] = df[\"fire_potential\"] * multiplier"
   ]
  },
  {
   "cell_type": "code",
   "execution_count": 30,
   "metadata": {},
   "outputs": [
    {
     "data": {
      "text/plain": [
       "<matplotlib.axes._subplots.AxesSubplot at 0x7f4b54cdb780>"
      ]
     },
     "execution_count": 30,
     "metadata": {},
     "output_type": "execute_result"
    },
    {
     "data": {
      "image/png": "[encoded data removed]",
      "text/plain": [
       "<Figure size 432x288 with 1 Axes>"
      ]
     },
     "metadata": {
      "needs_background": "light"
     },
     "output_type": "display_data"
    }
   ],
   "source": [
    "df[\"fire_potential\"].hist(bins=30)"
   ]
  },
  {
   "cell_type": "code",
   "execution_count": 31,
   "metadata": {},
   "outputs": [
    {
     "data": {
      "text/html": [
       "<div>\n",
       "<style scoped>\n",
       "    .dataframe tbody tr th:only-of-type {\n",
       "        vertical-align: middle;\n",
       "    }\n",
       "\n",
       "    .dataframe tbody tr th {\n",
       "        vertical-align: top;\n",
       "    }\n",
       "\n",
       "    .dataframe thead th {\n",
       "        text-align: right;\n",
       "    }\n",
       "</style>\n",
       "<table border=\"1\" class=\"dataframe\">\n",
       "  <thead>\n",
       "    <tr style=\"text-align: right;\">\n",
       "      <th></th>\n",
       "      <th>time</th>\n",
       "      <th>lat</th>\n",
       "      <th>lon</th>\n",
       "      <th>fire_potential</th>\n",
       "    </tr>\n",
       "  </thead>\n",
       "  <tbody>\n",
       "    <tr>\n",
       "      <th>2213395</th>\n",
       "      <td>2018-12-30 12:00:00</td>\n",
       "      <td>42.0</td>\n",
       "      <td>-116.250</td>\n",
       "      <td>-2.975988</td>\n",
       "    </tr>\n",
       "    <tr>\n",
       "      <th>2213396</th>\n",
       "      <td>2018-12-30 12:00:00</td>\n",
       "      <td>42.0</td>\n",
       "      <td>-115.625</td>\n",
       "      <td>-1.912581</td>\n",
       "    </tr>\n",
       "    <tr>\n",
       "      <th>2213397</th>\n",
       "      <td>2018-12-30 12:00:00</td>\n",
       "      <td>42.0</td>\n",
       "      <td>-115.000</td>\n",
       "      <td>-1.943005</td>\n",
       "    </tr>\n",
       "    <tr>\n",
       "      <th>2213398</th>\n",
       "      <td>2018-12-30 12:00:00</td>\n",
       "      <td>42.0</td>\n",
       "      <td>-114.375</td>\n",
       "      <td>-1.941054</td>\n",
       "    </tr>\n",
       "    <tr>\n",
       "      <th>2213399</th>\n",
       "      <td>2018-12-30 12:00:00</td>\n",
       "      <td>42.0</td>\n",
       "      <td>-113.750</td>\n",
       "      <td>-2.464001</td>\n",
       "    </tr>\n",
       "  </tbody>\n",
       "</table>\n",
       "</div>"
      ],
      "text/plain": [
       "                       time   lat      lon  fire_potential\n",
       "2213395 2018-12-30 12:00:00  42.0 -116.250       -2.975988\n",
       "2213396 2018-12-30 12:00:00  42.0 -115.625       -1.912581\n",
       "2213397 2018-12-30 12:00:00  42.0 -115.000       -1.943005\n",
       "2213398 2018-12-30 12:00:00  42.0 -114.375       -1.941054\n",
       "2213399 2018-12-30 12:00:00  42.0 -113.750       -2.464001"
      ]
     },
     "execution_count": 31,
     "metadata": {},
     "output_type": "execute_result"
    }
   ],
   "source": [
    "df.tail()"
   ]
  },
  {
   "cell_type": "code",
   "execution_count": 32,
   "metadata": {},
   "outputs": [],
   "source": [
    "df.to_csv(\n",
    "    \"start_2010-02-01_00h_step_12h_pred_noinputfire_shifted_to_zero_scaled_up_to_8.csv\",\n",
    "    index=False,\n",
    ")"
   ]
  },
  {
   "cell_type": "code",
   "execution_count": 33,
   "metadata": {},
   "outputs": [],
   "source": [
    "def map_with_heatmap(df, value, annot=False, cmap=\"tab20b\", aggfunc=np.sum):\n",
    "    map_df = df.pivot_table(index=\"lat\", columns=\"lon\", values=value, aggfunc=aggfunc)\n",
    "    f, ax = plt.subplots(figsize=(9, 9))\n",
    "    sns.heatmap(\n",
    "        map_df, annot=annot, cmap=cmap, annot_kws={\"fontsize\": 8}, linewidths=0.0, ax=ax\n",
    "    )\n",
    "    ax.invert_yaxis()"
   ]
  },
  {
   "cell_type": "code",
   "execution_count": 34,
   "metadata": {},
   "outputs": [],
   "source": [
    "df_test = df[df[\"time\"] == \"2016-04-21 12:00:00\"]"
   ]
  },
  {
   "cell_type": "code",
   "execution_count": 35,
   "metadata": {},
   "outputs": [
    {
     "data": {
      "image/png": "[encoded data removed]",
      "text/plain": [
       "<Figure size 648x648 with 2 Axes>"
      ]
     },
     "metadata": {
      "needs_background": "light"
     },
     "output_type": "display_data"
    }
   ],
   "source": [
    "map_with_heatmap(\n",
    "    df_test[df_test[\"fire_potential\"] > 0],\n",
    "    value=\"fire_potential\",\n",
    "    annot=False,\n",
    "    cmap=\"Reds\",\n",
    "    aggfunc=np.mean,\n",
    ")"
   ]
  }
 ],
 "metadata": {
  "kernelspec": {
   "display_name": "Python 3",
   "language": "python",
   "name": "python3"
  },
  "language_info": {
   "codemirror_mode": {
    "name": "ipython",
    "version": 3
   },
   "file_extension": ".py",
   "mimetype": "text/x-python",
   "name": "python",
   "nbconvert_exporter": "python",
   "pygments_lexer": "ipython3",
   "version": "3.7.3"
  }
 },
 "nbformat": 4,
 "nbformat_minor": 1
}
